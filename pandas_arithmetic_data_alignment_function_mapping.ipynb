{
 "cells": [
  {
   "metadata": {},
   "cell_type": "markdown",
   "source": [
    "# Project Title: Exploring Material Properties for EV Chassis Selection Using Pandas\n",
    "Objectives:\n",
    "- Strengthen practical skills in Pandas arithmetic operations, function application, and alignment strategies.\n",
    "\n",
    "- Explore and manipulate real-world material property data.\n",
    "\n",
    "- Extract actionable engineering insights from structured datasets.\n",
    "\n",
    "- Practice data transformation and preparation techniques relevant for machine learning workflows."
   ],
   "id": "33fa99a944bf327"
  },
  {
   "metadata": {},
   "cell_type": "markdown",
   "source": [
    "### Dataset Descriptions\n",
    "1. Data.csv\n",
    "\n",
    "Original mechanical properties dataset containing fields like:\n",
    "\n",
    "- Su (Ultimate Strength), Sy (Yield Strength), E (Young’s Modulus), G, mu, Ro, etc.\n",
    "\n",
    "- Some fields have missing values and inconsistent formatting.\n",
    "\n",
    "2. material.csv\n",
    "\n",
    "A cleaned, preprocessed version used for classification. Includes:\n",
    "\n",
    "- Concatenated material identifiers.\n",
    "\n",
    "- Key numeric mechanical properties.\n",
    "\n",
    "- A derived boolean target variable Use based on property thresholds.\n",
    "\n",
    "3. decision_tree.png\n",
    "\n",
    "A visual decision tree that classifies materials based on whether they meet specific mechanical criteria.\n",
    "\n"
   ],
   "id": "fcd427abc4450da3"
  },
  {
   "metadata": {},
   "cell_type": "markdown",
   "source": [
    "### Why This Matters\n",
    "Selecting optimal materials for electric vehicle (EV) chassis involves balancing strength, elasticity, and weight—critical for safety and performance. This exercise helps you:\n",
    "\n",
    "- Understand how to apply Pandas arithmetic in real-world scenarios.\n",
    "\n",
    "- Practice applying and aligning functions for material property evaluation.\n",
    "\n",
    "- Simulate preprocessing steps for ML-based decision-making.\n",
    "\n"
   ],
   "id": "cf851277486ce8ec"
  },
  {
   "metadata": {
    "ExecuteTime": {
     "end_time": "2025-05-04T18:14:40.161907Z",
     "start_time": "2025-05-04T18:14:39.536011Z"
    }
   },
   "cell_type": "code",
   "source": [
    "import pandas as pd\n",
    "import numpy as np"
   ],
   "id": "bca3d94cd3ec4d67",
   "outputs": [],
   "execution_count": 1
  },
  {
   "metadata": {
    "ExecuteTime": {
     "end_time": "2025-05-04T18:14:40.172120Z",
     "start_time": "2025-05-04T18:14:40.163119Z"
    }
   },
   "cell_type": "code",
   "source": "data = pd.read_csv('material.csv')",
   "id": "599b717d868623a",
   "outputs": [],
   "execution_count": 2
  },
  {
   "metadata": {
    "ExecuteTime": {
     "end_time": "2025-05-04T18:14:40.175566Z",
     "start_time": "2025-05-04T18:14:40.173169Z"
    }
   },
   "cell_type": "code",
   "source": "df = pd.DataFrame(data)",
   "id": "936421022ba96d92",
   "outputs": [],
   "execution_count": 3
  },
  {
   "metadata": {
    "ExecuteTime": {
     "end_time": "2025-05-04T18:14:40.188888Z",
     "start_time": "2025-05-04T18:14:40.176498Z"
    }
   },
   "cell_type": "code",
   "source": "df.head(5)",
   "id": "82e485c8e4c93660",
   "outputs": [
    {
     "data": {
      "text/plain": [
       "                         Material   Su   Sy       E      G   mu    Ro   Use\n",
       "0   ANSI Steel SAE 1015 as-rolled  421  314  207000  79000  0.3  7860  True\n",
       "1  ANSI Steel SAE 1015 normalized  424  324  207000  79000  0.3  7860  True\n",
       "2    ANSI Steel SAE 1015 annealed  386  284  207000  79000  0.3  7860  True\n",
       "3   ANSI Steel SAE 1020 as-rolled  448  331  207000  79000  0.3  7860  True\n",
       "4  ANSI Steel SAE 1020 normalized  441  346  207000  79000  0.3  7860  True"
      ],
      "text/html": [
       "<div>\n",
       "<style scoped>\n",
       "    .dataframe tbody tr th:only-of-type {\n",
       "        vertical-align: middle;\n",
       "    }\n",
       "\n",
       "    .dataframe tbody tr th {\n",
       "        vertical-align: top;\n",
       "    }\n",
       "\n",
       "    .dataframe thead th {\n",
       "        text-align: right;\n",
       "    }\n",
       "</style>\n",
       "<table border=\"1\" class=\"dataframe\">\n",
       "  <thead>\n",
       "    <tr style=\"text-align: right;\">\n",
       "      <th></th>\n",
       "      <th>Material</th>\n",
       "      <th>Su</th>\n",
       "      <th>Sy</th>\n",
       "      <th>E</th>\n",
       "      <th>G</th>\n",
       "      <th>mu</th>\n",
       "      <th>Ro</th>\n",
       "      <th>Use</th>\n",
       "    </tr>\n",
       "  </thead>\n",
       "  <tbody>\n",
       "    <tr>\n",
       "      <th>0</th>\n",
       "      <td>ANSI Steel SAE 1015 as-rolled</td>\n",
       "      <td>421</td>\n",
       "      <td>314</td>\n",
       "      <td>207000</td>\n",
       "      <td>79000</td>\n",
       "      <td>0.3</td>\n",
       "      <td>7860</td>\n",
       "      <td>True</td>\n",
       "    </tr>\n",
       "    <tr>\n",
       "      <th>1</th>\n",
       "      <td>ANSI Steel SAE 1015 normalized</td>\n",
       "      <td>424</td>\n",
       "      <td>324</td>\n",
       "      <td>207000</td>\n",
       "      <td>79000</td>\n",
       "      <td>0.3</td>\n",
       "      <td>7860</td>\n",
       "      <td>True</td>\n",
       "    </tr>\n",
       "    <tr>\n",
       "      <th>2</th>\n",
       "      <td>ANSI Steel SAE 1015 annealed</td>\n",
       "      <td>386</td>\n",
       "      <td>284</td>\n",
       "      <td>207000</td>\n",
       "      <td>79000</td>\n",
       "      <td>0.3</td>\n",
       "      <td>7860</td>\n",
       "      <td>True</td>\n",
       "    </tr>\n",
       "    <tr>\n",
       "      <th>3</th>\n",
       "      <td>ANSI Steel SAE 1020 as-rolled</td>\n",
       "      <td>448</td>\n",
       "      <td>331</td>\n",
       "      <td>207000</td>\n",
       "      <td>79000</td>\n",
       "      <td>0.3</td>\n",
       "      <td>7860</td>\n",
       "      <td>True</td>\n",
       "    </tr>\n",
       "    <tr>\n",
       "      <th>4</th>\n",
       "      <td>ANSI Steel SAE 1020 normalized</td>\n",
       "      <td>441</td>\n",
       "      <td>346</td>\n",
       "      <td>207000</td>\n",
       "      <td>79000</td>\n",
       "      <td>0.3</td>\n",
       "      <td>7860</td>\n",
       "      <td>True</td>\n",
       "    </tr>\n",
       "  </tbody>\n",
       "</table>\n",
       "</div>"
      ]
     },
     "execution_count": 4,
     "metadata": {},
     "output_type": "execute_result"
    }
   ],
   "execution_count": 4
  },
  {
   "metadata": {},
   "cell_type": "markdown",
   "source": [
    "### Section 1: Arithmetic and Data Alignment (8 Problems)\n",
    "Problem 1:\n",
    "Create a new column StrengthRatio in material.csv as the ratio of Su to Sy."
   ],
   "id": "ff76490229f75c74"
  },
  {
   "metadata": {
    "ExecuteTime": {
     "end_time": "2025-05-04T18:14:40.192828Z",
     "start_time": "2025-05-04T18:14:40.190345Z"
    }
   },
   "cell_type": "code",
   "source": "df['Su'] = pd.to_numeric(df['Su'], errors='coerce')",
   "id": "1c263461d740322b",
   "outputs": [],
   "execution_count": 5
  },
  {
   "metadata": {
    "ExecuteTime": {
     "end_time": "2025-05-04T18:14:40.196293Z",
     "start_time": "2025-05-04T18:14:40.193652Z"
    }
   },
   "cell_type": "code",
   "source": "df['Sy'] = pd.to_numeric(df['Sy'], errors='coerce')",
   "id": "a468301ea794db6",
   "outputs": [],
   "execution_count": 6
  },
  {
   "metadata": {
    "ExecuteTime": {
     "end_time": "2025-05-04T18:14:40.200183Z",
     "start_time": "2025-05-04T18:14:40.197352Z"
    }
   },
   "cell_type": "code",
   "source": "df['StrengthRatio'] = (df['Su']).div(df['Sy'], fill_value=0)",
   "id": "2721f7a50b61da3a",
   "outputs": [],
   "execution_count": 7
  },
  {
   "metadata": {
    "ExecuteTime": {
     "end_time": "2025-05-04T18:14:40.207228Z",
     "start_time": "2025-05-04T18:14:40.201184Z"
    }
   },
   "cell_type": "code",
   "source": "df[['Material', 'Su', 'Sy', 'StrengthRatio']].head(5)",
   "id": "344560f89561c5c4",
   "outputs": [
    {
     "data": {
      "text/plain": [
       "                         Material   Su   Sy  StrengthRatio\n",
       "0   ANSI Steel SAE 1015 as-rolled  421  314       1.340764\n",
       "1  ANSI Steel SAE 1015 normalized  424  324       1.308642\n",
       "2    ANSI Steel SAE 1015 annealed  386  284       1.359155\n",
       "3   ANSI Steel SAE 1020 as-rolled  448  331       1.353474\n",
       "4  ANSI Steel SAE 1020 normalized  441  346       1.274566"
      ],
      "text/html": [
       "<div>\n",
       "<style scoped>\n",
       "    .dataframe tbody tr th:only-of-type {\n",
       "        vertical-align: middle;\n",
       "    }\n",
       "\n",
       "    .dataframe tbody tr th {\n",
       "        vertical-align: top;\n",
       "    }\n",
       "\n",
       "    .dataframe thead th {\n",
       "        text-align: right;\n",
       "    }\n",
       "</style>\n",
       "<table border=\"1\" class=\"dataframe\">\n",
       "  <thead>\n",
       "    <tr style=\"text-align: right;\">\n",
       "      <th></th>\n",
       "      <th>Material</th>\n",
       "      <th>Su</th>\n",
       "      <th>Sy</th>\n",
       "      <th>StrengthRatio</th>\n",
       "    </tr>\n",
       "  </thead>\n",
       "  <tbody>\n",
       "    <tr>\n",
       "      <th>0</th>\n",
       "      <td>ANSI Steel SAE 1015 as-rolled</td>\n",
       "      <td>421</td>\n",
       "      <td>314</td>\n",
       "      <td>1.340764</td>\n",
       "    </tr>\n",
       "    <tr>\n",
       "      <th>1</th>\n",
       "      <td>ANSI Steel SAE 1015 normalized</td>\n",
       "      <td>424</td>\n",
       "      <td>324</td>\n",
       "      <td>1.308642</td>\n",
       "    </tr>\n",
       "    <tr>\n",
       "      <th>2</th>\n",
       "      <td>ANSI Steel SAE 1015 annealed</td>\n",
       "      <td>386</td>\n",
       "      <td>284</td>\n",
       "      <td>1.359155</td>\n",
       "    </tr>\n",
       "    <tr>\n",
       "      <th>3</th>\n",
       "      <td>ANSI Steel SAE 1020 as-rolled</td>\n",
       "      <td>448</td>\n",
       "      <td>331</td>\n",
       "      <td>1.353474</td>\n",
       "    </tr>\n",
       "    <tr>\n",
       "      <th>4</th>\n",
       "      <td>ANSI Steel SAE 1020 normalized</td>\n",
       "      <td>441</td>\n",
       "      <td>346</td>\n",
       "      <td>1.274566</td>\n",
       "    </tr>\n",
       "  </tbody>\n",
       "</table>\n",
       "</div>"
      ]
     },
     "execution_count": 8,
     "metadata": {},
     "output_type": "execute_result"
    }
   ],
   "execution_count": 8
  },
  {
   "metadata": {},
   "cell_type": "markdown",
   "source": [
    "Problem 2:\n",
    "Subtract the mean of each numeric column from all its values (center the data). Show the updated DataFrame."
   ],
   "id": "b998947844463de0"
  },
  {
   "metadata": {
    "ExecuteTime": {
     "end_time": "2025-05-04T18:14:40.210778Z",
     "start_time": "2025-05-04T18:14:40.208377Z"
    }
   },
   "cell_type": "code",
   "source": "numeric_cols = ['Su', 'Sy', 'E', 'G', 'mu', 'Ro']",
   "id": "67885c8c25614bd2",
   "outputs": [],
   "execution_count": 9
  },
  {
   "metadata": {
    "ExecuteTime": {
     "end_time": "2025-05-04T18:14:40.216135Z",
     "start_time": "2025-05-04T18:14:40.211747Z"
    }
   },
   "cell_type": "code",
   "source": "df[numeric_cols] = df[numeric_cols].apply(pd.to_numeric, errors='coerce')",
   "id": "570565201b3f7411",
   "outputs": [],
   "execution_count": 10
  },
  {
   "metadata": {
    "ExecuteTime": {
     "end_time": "2025-05-04T18:14:40.219428Z",
     "start_time": "2025-05-04T18:14:40.217151Z"
    }
   },
   "cell_type": "code",
   "source": "df_centered = df.copy()",
   "id": "4bd3b86b968b3831",
   "outputs": [],
   "execution_count": 11
  },
  {
   "metadata": {},
   "cell_type": "markdown",
   "source": [
    "Using `.copy()` like this:\n",
    "\n",
    "```python\n",
    "df_centered = df.copy()\n",
    "```\n",
    "\n",
    "is a **best practice** when transforming data in a DataFrame for the following reasons:\n",
    "\n",
    "\n",
    "### 1. **Preserve the Original `df`**\n",
    "\n",
    "* It keeps your original dataset (`df`) unchanged.\n",
    "* This is useful if you want to:\n",
    "\n",
    "  * Compare the original vs. transformed data later.\n",
    "  * Reuse `df` for other operations (like feature engineering or modeling) without reloading.\n",
    "\n",
    "\n",
    "\n",
    "### 2. **Avoid Chained Assignment Warning**\n",
    "\n",
    "* Modifying slices of `df` without `.copy()` can lead to pandas warnings like:\n",
    "\n",
    "  ```\n",
    "  SettingWithCopyWarning: A value is trying to be set on a copy of a slice from a DataFrame.\n",
    "  ```\n",
    "* Explicitly copying avoids these issues and makes your code safer and more predictable.\n",
    "\n",
    "\n",
    "\n",
    "### 3. **Good for Workflow Isolation**\n",
    "\n",
    "* In ML pipelines, it’s common to work on transformed versions (e.g., `df_normalized`, `df_centered`, `df_scaled`), so copying keeps each stage clear and modular.\n",
    "\n",
    "\n",
    "\n",
    "### Summary:\n",
    "\n",
    "Using `.copy()` is **not required**, but **highly recommended** when:\n",
    "\n",
    "* You plan to mutate the data.\n",
    "* You want to keep the original DataFrame intact.\n",
    "* You're building a clean, reproducible workflow.\n",
    "\n"
   ],
   "id": "19f24961d0bec20c"
  },
  {
   "metadata": {
    "ExecuteTime": {
     "end_time": "2025-05-04T18:14:40.225503Z",
     "start_time": "2025-05-04T18:14:40.220596Z"
    }
   },
   "cell_type": "code",
   "source": "df_centered[numeric_cols] = df_centered[numeric_cols].sub(df_centered[numeric_cols].mean())",
   "id": "f1a1f496a32eca0",
   "outputs": [],
   "execution_count": 12
  },
  {
   "metadata": {
    "ExecuteTime": {
     "end_time": "2025-05-04T18:14:40.233330Z",
     "start_time": "2025-05-04T18:14:40.226434Z"
    }
   },
   "cell_type": "code",
   "source": "df_centered[['Material'] + numeric_cols].head(5)",
   "id": "9558d6a87dc214bd",
   "outputs": [
    {
     "data": {
      "text/plain": [
       "                         Material          Su          Sy             E  \\\n",
       "0   ANSI Steel SAE 1015 as-rolled -151.753222  -73.010309  42428.479381   \n",
       "1  ANSI Steel SAE 1015 normalized -148.753222  -63.010309  42428.479381   \n",
       "2    ANSI Steel SAE 1015 annealed -186.753222 -103.010309  42428.479381   \n",
       "3   ANSI Steel SAE 1020 as-rolled -124.753222  -56.010309  42428.479381   \n",
       "4  ANSI Steel SAE 1020 normalized -131.753222  -41.010309  42428.479381   \n",
       "\n",
       "             G        mu          Ro  \n",
       "0 -6598.840206 -0.002977  930.156572  \n",
       "1 -6598.840206 -0.002977  930.156572  \n",
       "2 -6598.840206 -0.002977  930.156572  \n",
       "3 -6598.840206 -0.002977  930.156572  \n",
       "4 -6598.840206 -0.002977  930.156572  "
      ],
      "text/html": [
       "<div>\n",
       "<style scoped>\n",
       "    .dataframe tbody tr th:only-of-type {\n",
       "        vertical-align: middle;\n",
       "    }\n",
       "\n",
       "    .dataframe tbody tr th {\n",
       "        vertical-align: top;\n",
       "    }\n",
       "\n",
       "    .dataframe thead th {\n",
       "        text-align: right;\n",
       "    }\n",
       "</style>\n",
       "<table border=\"1\" class=\"dataframe\">\n",
       "  <thead>\n",
       "    <tr style=\"text-align: right;\">\n",
       "      <th></th>\n",
       "      <th>Material</th>\n",
       "      <th>Su</th>\n",
       "      <th>Sy</th>\n",
       "      <th>E</th>\n",
       "      <th>G</th>\n",
       "      <th>mu</th>\n",
       "      <th>Ro</th>\n",
       "    </tr>\n",
       "  </thead>\n",
       "  <tbody>\n",
       "    <tr>\n",
       "      <th>0</th>\n",
       "      <td>ANSI Steel SAE 1015 as-rolled</td>\n",
       "      <td>-151.753222</td>\n",
       "      <td>-73.010309</td>\n",
       "      <td>42428.479381</td>\n",
       "      <td>-6598.840206</td>\n",
       "      <td>-0.002977</td>\n",
       "      <td>930.156572</td>\n",
       "    </tr>\n",
       "    <tr>\n",
       "      <th>1</th>\n",
       "      <td>ANSI Steel SAE 1015 normalized</td>\n",
       "      <td>-148.753222</td>\n",
       "      <td>-63.010309</td>\n",
       "      <td>42428.479381</td>\n",
       "      <td>-6598.840206</td>\n",
       "      <td>-0.002977</td>\n",
       "      <td>930.156572</td>\n",
       "    </tr>\n",
       "    <tr>\n",
       "      <th>2</th>\n",
       "      <td>ANSI Steel SAE 1015 annealed</td>\n",
       "      <td>-186.753222</td>\n",
       "      <td>-103.010309</td>\n",
       "      <td>42428.479381</td>\n",
       "      <td>-6598.840206</td>\n",
       "      <td>-0.002977</td>\n",
       "      <td>930.156572</td>\n",
       "    </tr>\n",
       "    <tr>\n",
       "      <th>3</th>\n",
       "      <td>ANSI Steel SAE 1020 as-rolled</td>\n",
       "      <td>-124.753222</td>\n",
       "      <td>-56.010309</td>\n",
       "      <td>42428.479381</td>\n",
       "      <td>-6598.840206</td>\n",
       "      <td>-0.002977</td>\n",
       "      <td>930.156572</td>\n",
       "    </tr>\n",
       "    <tr>\n",
       "      <th>4</th>\n",
       "      <td>ANSI Steel SAE 1020 normalized</td>\n",
       "      <td>-131.753222</td>\n",
       "      <td>-41.010309</td>\n",
       "      <td>42428.479381</td>\n",
       "      <td>-6598.840206</td>\n",
       "      <td>-0.002977</td>\n",
       "      <td>930.156572</td>\n",
       "    </tr>\n",
       "  </tbody>\n",
       "</table>\n",
       "</div>"
      ]
     },
     "execution_count": 13,
     "metadata": {},
     "output_type": "execute_result"
    }
   ],
   "execution_count": 13
  },
  {
   "metadata": {},
   "cell_type": "markdown",
   "source": [
    "Problem 3:\n",
    "Normalize E, G, and Ro using min-max scaling across columns."
   ],
   "id": "2859dbdc9a942ce4"
  },
  {
   "metadata": {
    "ExecuteTime": {
     "end_time": "2025-05-04T18:14:40.237319Z",
     "start_time": "2025-05-04T18:14:40.235251Z"
    }
   },
   "cell_type": "code",
   "source": [
    "def min_max_scaling(x):\n",
    "    return (x - x.min()) / (x.max() - x.min())"
   ],
   "id": "fb256aaded3bc0bb",
   "outputs": [],
   "execution_count": 14
  },
  {
   "metadata": {
    "ExecuteTime": {
     "end_time": "2025-05-04T18:14:40.240294Z",
     "start_time": "2025-05-04T18:14:40.238292Z"
    }
   },
   "cell_type": "code",
   "source": "cols = ['E', 'G', 'Ro']",
   "id": "f6d77dcb8707ca57",
   "outputs": [],
   "execution_count": 15
  },
  {
   "metadata": {
    "ExecuteTime": {
     "end_time": "2025-05-04T18:14:40.245656Z",
     "start_time": "2025-05-04T18:14:40.241285Z"
    }
   },
   "cell_type": "code",
   "source": "df[cols] = df[cols].apply(pd.to_numeric, errors='coerce')",
   "id": "ac67847604185d14",
   "outputs": [],
   "execution_count": 16
  },
  {
   "metadata": {
    "ExecuteTime": {
     "end_time": "2025-05-04T18:14:40.250696Z",
     "start_time": "2025-05-04T18:14:40.246564Z"
    }
   },
   "cell_type": "code",
   "source": "df[cols] = df[cols].apply(min_max_scaling, axis=0)",
   "id": "386c11605456f4b8",
   "outputs": [],
   "execution_count": 17
  },
  {
   "metadata": {
    "ExecuteTime": {
     "end_time": "2025-05-04T18:14:40.257343Z",
     "start_time": "2025-05-04T18:14:40.251553Z"
    }
   },
   "cell_type": "code",
   "source": "df[['Material'] + cols].round(3).head(5)",
   "id": "6e4f4cb13f954da1",
   "outputs": [
    {
     "data": {
      "text/plain": [
       "                         Material      E      G     Ro\n",
       "0   ANSI Steel SAE 1015 as-rolled  0.918  0.071  0.851\n",
       "1  ANSI Steel SAE 1015 normalized  0.918  0.071  0.851\n",
       "2    ANSI Steel SAE 1015 annealed  0.918  0.071  0.851\n",
       "3   ANSI Steel SAE 1020 as-rolled  0.918  0.071  0.851\n",
       "4  ANSI Steel SAE 1020 normalized  0.918  0.071  0.851"
      ],
      "text/html": [
       "<div>\n",
       "<style scoped>\n",
       "    .dataframe tbody tr th:only-of-type {\n",
       "        vertical-align: middle;\n",
       "    }\n",
       "\n",
       "    .dataframe tbody tr th {\n",
       "        vertical-align: top;\n",
       "    }\n",
       "\n",
       "    .dataframe thead th {\n",
       "        text-align: right;\n",
       "    }\n",
       "</style>\n",
       "<table border=\"1\" class=\"dataframe\">\n",
       "  <thead>\n",
       "    <tr style=\"text-align: right;\">\n",
       "      <th></th>\n",
       "      <th>Material</th>\n",
       "      <th>E</th>\n",
       "      <th>G</th>\n",
       "      <th>Ro</th>\n",
       "    </tr>\n",
       "  </thead>\n",
       "  <tbody>\n",
       "    <tr>\n",
       "      <th>0</th>\n",
       "      <td>ANSI Steel SAE 1015 as-rolled</td>\n",
       "      <td>0.918</td>\n",
       "      <td>0.071</td>\n",
       "      <td>0.851</td>\n",
       "    </tr>\n",
       "    <tr>\n",
       "      <th>1</th>\n",
       "      <td>ANSI Steel SAE 1015 normalized</td>\n",
       "      <td>0.918</td>\n",
       "      <td>0.071</td>\n",
       "      <td>0.851</td>\n",
       "    </tr>\n",
       "    <tr>\n",
       "      <th>2</th>\n",
       "      <td>ANSI Steel SAE 1015 annealed</td>\n",
       "      <td>0.918</td>\n",
       "      <td>0.071</td>\n",
       "      <td>0.851</td>\n",
       "    </tr>\n",
       "    <tr>\n",
       "      <th>3</th>\n",
       "      <td>ANSI Steel SAE 1020 as-rolled</td>\n",
       "      <td>0.918</td>\n",
       "      <td>0.071</td>\n",
       "      <td>0.851</td>\n",
       "    </tr>\n",
       "    <tr>\n",
       "      <th>4</th>\n",
       "      <td>ANSI Steel SAE 1020 normalized</td>\n",
       "      <td>0.918</td>\n",
       "      <td>0.071</td>\n",
       "      <td>0.851</td>\n",
       "    </tr>\n",
       "  </tbody>\n",
       "</table>\n",
       "</div>"
      ]
     },
     "execution_count": 18,
     "metadata": {},
     "output_type": "execute_result"
    }
   ],
   "execution_count": 18
  },
  {
   "metadata": {
    "ExecuteTime": {
     "end_time": "2025-05-04T18:14:40.266389Z",
     "start_time": "2025-05-04T18:14:40.258575Z"
    }
   },
   "cell_type": "code",
   "source": [
    "# alternative\n",
    "df[cols].apply(lambda x: (x - x.min()) / (x.max() - x.min()))"
   ],
   "id": "b74c703de0fa855e",
   "outputs": [
    {
     "data": {
      "text/plain": [
       "             E         G        Ro\n",
       "0     0.917808  0.071332  0.850975\n",
       "1     0.917808  0.071332  0.850975\n",
       "2     0.917808  0.071332  0.850975\n",
       "3     0.917808  0.071332  0.850975\n",
       "4     0.917808  0.071332  0.850975\n",
       "...        ...       ...       ...\n",
       "1547  0.657534  0.059219  0.753482\n",
       "1548  0.657534  0.059219  0.753482\n",
       "1549  0.657534  0.059219  0.753482\n",
       "1550  0.595890  0.051144  0.753482\n",
       "1551  0.595890  0.051144  0.753482\n",
       "\n",
       "[1552 rows x 3 columns]"
      ],
      "text/html": [
       "<div>\n",
       "<style scoped>\n",
       "    .dataframe tbody tr th:only-of-type {\n",
       "        vertical-align: middle;\n",
       "    }\n",
       "\n",
       "    .dataframe tbody tr th {\n",
       "        vertical-align: top;\n",
       "    }\n",
       "\n",
       "    .dataframe thead th {\n",
       "        text-align: right;\n",
       "    }\n",
       "</style>\n",
       "<table border=\"1\" class=\"dataframe\">\n",
       "  <thead>\n",
       "    <tr style=\"text-align: right;\">\n",
       "      <th></th>\n",
       "      <th>E</th>\n",
       "      <th>G</th>\n",
       "      <th>Ro</th>\n",
       "    </tr>\n",
       "  </thead>\n",
       "  <tbody>\n",
       "    <tr>\n",
       "      <th>0</th>\n",
       "      <td>0.917808</td>\n",
       "      <td>0.071332</td>\n",
       "      <td>0.850975</td>\n",
       "    </tr>\n",
       "    <tr>\n",
       "      <th>1</th>\n",
       "      <td>0.917808</td>\n",
       "      <td>0.071332</td>\n",
       "      <td>0.850975</td>\n",
       "    </tr>\n",
       "    <tr>\n",
       "      <th>2</th>\n",
       "      <td>0.917808</td>\n",
       "      <td>0.071332</td>\n",
       "      <td>0.850975</td>\n",
       "    </tr>\n",
       "    <tr>\n",
       "      <th>3</th>\n",
       "      <td>0.917808</td>\n",
       "      <td>0.071332</td>\n",
       "      <td>0.850975</td>\n",
       "    </tr>\n",
       "    <tr>\n",
       "      <th>4</th>\n",
       "      <td>0.917808</td>\n",
       "      <td>0.071332</td>\n",
       "      <td>0.850975</td>\n",
       "    </tr>\n",
       "    <tr>\n",
       "      <th>...</th>\n",
       "      <td>...</td>\n",
       "      <td>...</td>\n",
       "      <td>...</td>\n",
       "    </tr>\n",
       "    <tr>\n",
       "      <th>1547</th>\n",
       "      <td>0.657534</td>\n",
       "      <td>0.059219</td>\n",
       "      <td>0.753482</td>\n",
       "    </tr>\n",
       "    <tr>\n",
       "      <th>1548</th>\n",
       "      <td>0.657534</td>\n",
       "      <td>0.059219</td>\n",
       "      <td>0.753482</td>\n",
       "    </tr>\n",
       "    <tr>\n",
       "      <th>1549</th>\n",
       "      <td>0.657534</td>\n",
       "      <td>0.059219</td>\n",
       "      <td>0.753482</td>\n",
       "    </tr>\n",
       "    <tr>\n",
       "      <th>1550</th>\n",
       "      <td>0.595890</td>\n",
       "      <td>0.051144</td>\n",
       "      <td>0.753482</td>\n",
       "    </tr>\n",
       "    <tr>\n",
       "      <th>1551</th>\n",
       "      <td>0.595890</td>\n",
       "      <td>0.051144</td>\n",
       "      <td>0.753482</td>\n",
       "    </tr>\n",
       "  </tbody>\n",
       "</table>\n",
       "<p>1552 rows × 3 columns</p>\n",
       "</div>"
      ]
     },
     "execution_count": 19,
     "metadata": {},
     "output_type": "execute_result"
    }
   ],
   "execution_count": 19
  },
  {
   "metadata": {},
   "cell_type": "markdown",
   "source": [
    "Problem 4:\n",
    "Create a DataFrame with absolute differences between Su, Sy, and E. Use broadcasting to compute pairwise absolute differences."
   ],
   "id": "a15f139d430b169d"
  },
  {
   "metadata": {
    "ExecuteTime": {
     "end_time": "2025-05-04T18:14:40.269411Z",
     "start_time": "2025-05-04T18:14:40.267266Z"
    }
   },
   "cell_type": "code",
   "source": "cols = ['Su', 'Sy', 'E']",
   "id": "39017567c38fbeda",
   "outputs": [],
   "execution_count": 20
  },
  {
   "metadata": {
    "ExecuteTime": {
     "end_time": "2025-05-04T18:14:40.273633Z",
     "start_time": "2025-05-04T18:14:40.270426Z"
    }
   },
   "cell_type": "code",
   "source": "df[cols] = df[cols].apply(pd.to_numeric, errors='coerce')",
   "id": "47509e8df975a1be",
   "outputs": [],
   "execution_count": 21
  },
  {
   "metadata": {
    "ExecuteTime": {
     "end_time": "2025-05-04T18:14:40.277509Z",
     "start_time": "2025-05-04T18:14:40.274612Z"
    }
   },
   "cell_type": "code",
   "source": [
    "df_diff = pd.DataFrame(\n",
    "    {\n",
    "        'AbsDiff_Su_Sy': (df['Su'] - df['Sy']).abs(),\n",
    "        'AbsDiff_Su_E': (df['Su'] - df['E']).abs(),\n",
    "        'AbsDiff_E_Sy': (df['E'] - df['Sy']).abs(),\n",
    "    }\n",
    ")"
   ],
   "id": "d2871b9b2350e28",
   "outputs": [],
   "execution_count": 22
  },
  {
   "metadata": {
    "ExecuteTime": {
     "end_time": "2025-05-04T18:14:40.281350Z",
     "start_time": "2025-05-04T18:14:40.278674Z"
    }
   },
   "cell_type": "code",
   "source": [
    "# Combine with material name for display\n",
    "result = pd.concat([df['Material'], df_diff], axis=1)"
   ],
   "id": "8bd85913564c85e7",
   "outputs": [],
   "execution_count": 23
  },
  {
   "metadata": {
    "ExecuteTime": {
     "end_time": "2025-05-04T18:14:40.286680Z",
     "start_time": "2025-05-04T18:14:40.282184Z"
    }
   },
   "cell_type": "code",
   "source": "result.head(5)",
   "id": "43e0fee9badd3481",
   "outputs": [
    {
     "data": {
      "text/plain": [
       "                         Material  AbsDiff_Su_Sy  AbsDiff_Su_E  AbsDiff_E_Sy\n",
       "0   ANSI Steel SAE 1015 as-rolled            107    420.082192    313.082192\n",
       "1  ANSI Steel SAE 1015 normalized            100    423.082192    323.082192\n",
       "2    ANSI Steel SAE 1015 annealed            102    385.082192    283.082192\n",
       "3   ANSI Steel SAE 1020 as-rolled            117    447.082192    330.082192\n",
       "4  ANSI Steel SAE 1020 normalized             95    440.082192    345.082192"
      ],
      "text/html": [
       "<div>\n",
       "<style scoped>\n",
       "    .dataframe tbody tr th:only-of-type {\n",
       "        vertical-align: middle;\n",
       "    }\n",
       "\n",
       "    .dataframe tbody tr th {\n",
       "        vertical-align: top;\n",
       "    }\n",
       "\n",
       "    .dataframe thead th {\n",
       "        text-align: right;\n",
       "    }\n",
       "</style>\n",
       "<table border=\"1\" class=\"dataframe\">\n",
       "  <thead>\n",
       "    <tr style=\"text-align: right;\">\n",
       "      <th></th>\n",
       "      <th>Material</th>\n",
       "      <th>AbsDiff_Su_Sy</th>\n",
       "      <th>AbsDiff_Su_E</th>\n",
       "      <th>AbsDiff_E_Sy</th>\n",
       "    </tr>\n",
       "  </thead>\n",
       "  <tbody>\n",
       "    <tr>\n",
       "      <th>0</th>\n",
       "      <td>ANSI Steel SAE 1015 as-rolled</td>\n",
       "      <td>107</td>\n",
       "      <td>420.082192</td>\n",
       "      <td>313.082192</td>\n",
       "    </tr>\n",
       "    <tr>\n",
       "      <th>1</th>\n",
       "      <td>ANSI Steel SAE 1015 normalized</td>\n",
       "      <td>100</td>\n",
       "      <td>423.082192</td>\n",
       "      <td>323.082192</td>\n",
       "    </tr>\n",
       "    <tr>\n",
       "      <th>2</th>\n",
       "      <td>ANSI Steel SAE 1015 annealed</td>\n",
       "      <td>102</td>\n",
       "      <td>385.082192</td>\n",
       "      <td>283.082192</td>\n",
       "    </tr>\n",
       "    <tr>\n",
       "      <th>3</th>\n",
       "      <td>ANSI Steel SAE 1020 as-rolled</td>\n",
       "      <td>117</td>\n",
       "      <td>447.082192</td>\n",
       "      <td>330.082192</td>\n",
       "    </tr>\n",
       "    <tr>\n",
       "      <th>4</th>\n",
       "      <td>ANSI Steel SAE 1020 normalized</td>\n",
       "      <td>95</td>\n",
       "      <td>440.082192</td>\n",
       "      <td>345.082192</td>\n",
       "    </tr>\n",
       "  </tbody>\n",
       "</table>\n",
       "</div>"
      ]
     },
     "execution_count": 24,
     "metadata": {},
     "output_type": "execute_result"
    }
   ],
   "execution_count": 24
  },
  {
   "metadata": {},
   "cell_type": "markdown",
   "source": [
    "Problem 5:\n",
    "Align and subtract the values of E and G from each other only where index labels match. Show the result."
   ],
   "id": "1e5a9f949408f2e4"
  },
  {
   "metadata": {
    "ExecuteTime": {
     "end_time": "2025-05-04T18:14:40.289937Z",
     "start_time": "2025-05-04T18:14:40.287727Z"
    }
   },
   "cell_type": "code",
   "source": "df = pd.DataFrame(data)",
   "id": "6795215cbcf986de",
   "outputs": [],
   "execution_count": 25
  },
  {
   "metadata": {
    "ExecuteTime": {
     "end_time": "2025-05-04T18:14:40.292781Z",
     "start_time": "2025-05-04T18:14:40.290911Z"
    }
   },
   "cell_type": "code",
   "source": "cols = ['E', 'G']",
   "id": "30ffcf87d9d5eebf",
   "outputs": [],
   "execution_count": 26
  },
  {
   "metadata": {
    "ExecuteTime": {
     "end_time": "2025-05-04T18:14:40.296865Z",
     "start_time": "2025-05-04T18:14:40.293773Z"
    }
   },
   "cell_type": "code",
   "source": "df[cols] = df[cols].apply(pd.to_numeric, errors='coerce')",
   "id": "5851ae8894889bd6",
   "outputs": [],
   "execution_count": 27
  },
  {
   "metadata": {
    "ExecuteTime": {
     "end_time": "2025-05-04T18:14:40.299905Z",
     "start_time": "2025-05-04T18:14:40.297756Z"
    }
   },
   "cell_type": "code",
   "source": "series_E = df['E'].copy()",
   "id": "e81e4618582c491c",
   "outputs": [],
   "execution_count": 28
  },
  {
   "metadata": {
    "ExecuteTime": {
     "end_time": "2025-05-04T18:14:40.303318Z",
     "start_time": "2025-05-04T18:14:40.301005Z"
    }
   },
   "cell_type": "code",
   "source": "series_G = df['G'].copy()",
   "id": "efe7d3db7a120294",
   "outputs": [],
   "execution_count": 29
  },
  {
   "metadata": {
    "ExecuteTime": {
     "end_time": "2025-05-04T18:14:40.306553Z",
     "start_time": "2025-05-04T18:14:40.304329Z"
    }
   },
   "cell_type": "code",
   "source": [
    "# Align and subtract\n",
    "# this aligns the index automatically\n",
    "aligned_difference = series_E.subtract(series_G, fill_value=0)"
   ],
   "id": "4aaaaea06d757a6b",
   "outputs": [],
   "execution_count": 30
  },
  {
   "metadata": {
    "ExecuteTime": {
     "end_time": "2025-05-04T18:14:40.310553Z",
     "start_time": "2025-05-04T18:14:40.307631Z"
    }
   },
   "cell_type": "code",
   "source": [
    "result = pd.DataFrame(\n",
    "    {\n",
    "        'Material': df['Material'],\n",
    "        'E': series_E,\n",
    "        'G': series_G,\n",
    "        'E_minus_G': aligned_difference,\n",
    "    }\n",
    ")"
   ],
   "id": "828ae72ebb8b3b6b",
   "outputs": [],
   "execution_count": 31
  },
  {
   "metadata": {
    "ExecuteTime": {
     "end_time": "2025-05-04T18:14:40.316032Z",
     "start_time": "2025-05-04T18:14:40.311485Z"
    }
   },
   "cell_type": "code",
   "source": "result.head(5)",
   "id": "a201dd555a289d52",
   "outputs": [
    {
     "data": {
      "text/plain": [
       "                         Material       E      G  E_minus_G\n",
       "0   ANSI Steel SAE 1015 as-rolled  207000  79000     128000\n",
       "1  ANSI Steel SAE 1015 normalized  207000  79000     128000\n",
       "2    ANSI Steel SAE 1015 annealed  207000  79000     128000\n",
       "3   ANSI Steel SAE 1020 as-rolled  207000  79000     128000\n",
       "4  ANSI Steel SAE 1020 normalized  207000  79000     128000"
      ],
      "text/html": [
       "<div>\n",
       "<style scoped>\n",
       "    .dataframe tbody tr th:only-of-type {\n",
       "        vertical-align: middle;\n",
       "    }\n",
       "\n",
       "    .dataframe tbody tr th {\n",
       "        vertical-align: top;\n",
       "    }\n",
       "\n",
       "    .dataframe thead th {\n",
       "        text-align: right;\n",
       "    }\n",
       "</style>\n",
       "<table border=\"1\" class=\"dataframe\">\n",
       "  <thead>\n",
       "    <tr style=\"text-align: right;\">\n",
       "      <th></th>\n",
       "      <th>Material</th>\n",
       "      <th>E</th>\n",
       "      <th>G</th>\n",
       "      <th>E_minus_G</th>\n",
       "    </tr>\n",
       "  </thead>\n",
       "  <tbody>\n",
       "    <tr>\n",
       "      <th>0</th>\n",
       "      <td>ANSI Steel SAE 1015 as-rolled</td>\n",
       "      <td>207000</td>\n",
       "      <td>79000</td>\n",
       "      <td>128000</td>\n",
       "    </tr>\n",
       "    <tr>\n",
       "      <th>1</th>\n",
       "      <td>ANSI Steel SAE 1015 normalized</td>\n",
       "      <td>207000</td>\n",
       "      <td>79000</td>\n",
       "      <td>128000</td>\n",
       "    </tr>\n",
       "    <tr>\n",
       "      <th>2</th>\n",
       "      <td>ANSI Steel SAE 1015 annealed</td>\n",
       "      <td>207000</td>\n",
       "      <td>79000</td>\n",
       "      <td>128000</td>\n",
       "    </tr>\n",
       "    <tr>\n",
       "      <th>3</th>\n",
       "      <td>ANSI Steel SAE 1020 as-rolled</td>\n",
       "      <td>207000</td>\n",
       "      <td>79000</td>\n",
       "      <td>128000</td>\n",
       "    </tr>\n",
       "    <tr>\n",
       "      <th>4</th>\n",
       "      <td>ANSI Steel SAE 1020 normalized</td>\n",
       "      <td>207000</td>\n",
       "      <td>79000</td>\n",
       "      <td>128000</td>\n",
       "    </tr>\n",
       "  </tbody>\n",
       "</table>\n",
       "</div>"
      ]
     },
     "execution_count": 32,
     "metadata": {},
     "output_type": "execute_result"
    }
   ],
   "execution_count": 32
  },
  {
   "metadata": {},
   "cell_type": "markdown",
   "source": [
    "Problem 6:\n",
    "From material.csv, align the values of Ro and mu and multiply them elementwise. Show where alignment fails."
   ],
   "id": "b966b166d0a19470"
  },
  {
   "metadata": {
    "ExecuteTime": {
     "end_time": "2025-05-04T18:14:40.319906Z",
     "start_time": "2025-05-04T18:14:40.317355Z"
    }
   },
   "cell_type": "code",
   "source": "df = pd.DataFrame(data)",
   "id": "58eb91d764b6ea2a",
   "outputs": [],
   "execution_count": 33
  },
  {
   "metadata": {
    "ExecuteTime": {
     "end_time": "2025-05-04T18:14:40.322862Z",
     "start_time": "2025-05-04T18:14:40.320781Z"
    }
   },
   "cell_type": "code",
   "source": "cols = ['Ro', 'mu']",
   "id": "3a272f7930fb260",
   "outputs": [],
   "execution_count": 34
  },
  {
   "metadata": {
    "ExecuteTime": {
     "end_time": "2025-05-04T18:14:40.326918Z",
     "start_time": "2025-05-04T18:14:40.323871Z"
    }
   },
   "cell_type": "code",
   "source": "df[cols] = df[cols].apply(pd.to_numeric, errors='coerce')",
   "id": "9374e04663a29a08",
   "outputs": [],
   "execution_count": 35
  },
  {
   "metadata": {
    "ExecuteTime": {
     "end_time": "2025-05-04T18:14:40.330239Z",
     "start_time": "2025-05-04T18:14:40.328040Z"
    }
   },
   "cell_type": "code",
   "source": "ro_series = df['Ro'].copy()",
   "id": "eacf206b0509b39",
   "outputs": [],
   "execution_count": 36
  },
  {
   "metadata": {
    "ExecuteTime": {
     "end_time": "2025-05-04T18:14:40.335243Z",
     "start_time": "2025-05-04T18:14:40.332559Z"
    }
   },
   "cell_type": "code",
   "source": "mu_series = df['mu'].copy()",
   "id": "b3bc3eb90ea5c3f0",
   "outputs": [],
   "execution_count": 37
  },
  {
   "metadata": {
    "ExecuteTime": {
     "end_time": "2025-05-04T18:14:40.365025Z",
     "start_time": "2025-05-04T18:14:40.362114Z"
    }
   },
   "cell_type": "code",
   "source": "ro_mu_product = ro_series.multiply(mu_series)",
   "id": "d9cd72245c7b22e9",
   "outputs": [],
   "execution_count": 38
  },
  {
   "metadata": {
    "ExecuteTime": {
     "end_time": "2025-05-04T18:14:40.699169Z",
     "start_time": "2025-05-04T18:14:40.695083Z"
    }
   },
   "cell_type": "code",
   "source": "ro_mu_product.head(5)",
   "id": "f572cf42f61a953f",
   "outputs": [
    {
     "data": {
      "text/plain": [
       "0    2358.0\n",
       "1    2358.0\n",
       "2    2358.0\n",
       "3    2358.0\n",
       "4    2358.0\n",
       "dtype: float64"
      ]
     },
     "execution_count": 39,
     "metadata": {},
     "output_type": "execute_result"
    }
   ],
   "execution_count": 39
  },
  {
   "metadata": {
    "ExecuteTime": {
     "end_time": "2025-05-04T18:14:41.223011Z",
     "start_time": "2025-05-04T18:14:41.220371Z"
    }
   },
   "cell_type": "code",
   "source": "misaligned_rows = ro_mu_product[ro_mu_product.isna()]",
   "id": "92d64142403ffb2c",
   "outputs": [],
   "execution_count": 40
  },
  {
   "metadata": {
    "ExecuteTime": {
     "end_time": "2025-05-04T18:14:41.459463Z",
     "start_time": "2025-05-04T18:14:41.455251Z"
    }
   },
   "cell_type": "code",
   "source": "misaligned_rows.head(5)",
   "id": "28649e047684920b",
   "outputs": [
    {
     "data": {
      "text/plain": [
       "Series([], dtype: float64)"
      ]
     },
     "execution_count": 41,
     "metadata": {},
     "output_type": "execute_result"
    }
   ],
   "execution_count": 41
  },
  {
   "metadata": {
    "ExecuteTime": {
     "end_time": "2025-05-04T18:14:41.545494Z",
     "start_time": "2025-05-04T18:14:41.542039Z"
    }
   },
   "cell_type": "code",
   "source": "misaligned_rows.shape",
   "id": "4df16e7be5cbe5ea",
   "outputs": [
    {
     "data": {
      "text/plain": [
       "(0,)"
      ]
     },
     "execution_count": 42,
     "metadata": {},
     "output_type": "execute_result"
    }
   ],
   "execution_count": 42
  },
  {
   "metadata": {
    "ExecuteTime": {
     "end_time": "2025-05-04T18:14:41.601575Z",
     "start_time": "2025-05-04T18:14:41.598320Z"
    }
   },
   "cell_type": "code",
   "source": [
    "result = pd.DataFrame(\n",
    "    {\n",
    "        'Material': df['Material'],\n",
    "        'Ro': ro_series,\n",
    "        'mu': mu_series,\n",
    "        'Ro_x_mu': ro_mu_product,\n",
    "    }\n",
    ")"
   ],
   "id": "2df2c9ce1a34d3b6",
   "outputs": [],
   "execution_count": 43
  },
  {
   "metadata": {
    "ExecuteTime": {
     "end_time": "2025-05-04T18:14:41.648597Z",
     "start_time": "2025-05-04T18:14:41.641492Z"
    }
   },
   "cell_type": "code",
   "source": "result.head(5)",
   "id": "fd876fed1a41f88d",
   "outputs": [
    {
     "data": {
      "text/plain": [
       "                         Material    Ro   mu  Ro_x_mu\n",
       "0   ANSI Steel SAE 1015 as-rolled  7860  0.3   2358.0\n",
       "1  ANSI Steel SAE 1015 normalized  7860  0.3   2358.0\n",
       "2    ANSI Steel SAE 1015 annealed  7860  0.3   2358.0\n",
       "3   ANSI Steel SAE 1020 as-rolled  7860  0.3   2358.0\n",
       "4  ANSI Steel SAE 1020 normalized  7860  0.3   2358.0"
      ],
      "text/html": [
       "<div>\n",
       "<style scoped>\n",
       "    .dataframe tbody tr th:only-of-type {\n",
       "        vertical-align: middle;\n",
       "    }\n",
       "\n",
       "    .dataframe tbody tr th {\n",
       "        vertical-align: top;\n",
       "    }\n",
       "\n",
       "    .dataframe thead th {\n",
       "        text-align: right;\n",
       "    }\n",
       "</style>\n",
       "<table border=\"1\" class=\"dataframe\">\n",
       "  <thead>\n",
       "    <tr style=\"text-align: right;\">\n",
       "      <th></th>\n",
       "      <th>Material</th>\n",
       "      <th>Ro</th>\n",
       "      <th>mu</th>\n",
       "      <th>Ro_x_mu</th>\n",
       "    </tr>\n",
       "  </thead>\n",
       "  <tbody>\n",
       "    <tr>\n",
       "      <th>0</th>\n",
       "      <td>ANSI Steel SAE 1015 as-rolled</td>\n",
       "      <td>7860</td>\n",
       "      <td>0.3</td>\n",
       "      <td>2358.0</td>\n",
       "    </tr>\n",
       "    <tr>\n",
       "      <th>1</th>\n",
       "      <td>ANSI Steel SAE 1015 normalized</td>\n",
       "      <td>7860</td>\n",
       "      <td>0.3</td>\n",
       "      <td>2358.0</td>\n",
       "    </tr>\n",
       "    <tr>\n",
       "      <th>2</th>\n",
       "      <td>ANSI Steel SAE 1015 annealed</td>\n",
       "      <td>7860</td>\n",
       "      <td>0.3</td>\n",
       "      <td>2358.0</td>\n",
       "    </tr>\n",
       "    <tr>\n",
       "      <th>3</th>\n",
       "      <td>ANSI Steel SAE 1020 as-rolled</td>\n",
       "      <td>7860</td>\n",
       "      <td>0.3</td>\n",
       "      <td>2358.0</td>\n",
       "    </tr>\n",
       "    <tr>\n",
       "      <th>4</th>\n",
       "      <td>ANSI Steel SAE 1020 normalized</td>\n",
       "      <td>7860</td>\n",
       "      <td>0.3</td>\n",
       "      <td>2358.0</td>\n",
       "    </tr>\n",
       "  </tbody>\n",
       "</table>\n",
       "</div>"
      ]
     },
     "execution_count": 44,
     "metadata": {},
     "output_type": "execute_result"
    }
   ],
   "execution_count": 44
  },
  {
   "metadata": {},
   "cell_type": "markdown",
   "source": [
    "Problem 7:\n",
    "Divide each value of Su and Sy by their respective standard deviations (z-score normalization). Store as Su_z and Sy_z."
   ],
   "id": "79cf8e4e7d5ecb21"
  },
  {
   "metadata": {
    "ExecuteTime": {
     "end_time": "2025-05-04T18:14:41.753485Z",
     "start_time": "2025-05-04T18:14:41.750761Z"
    }
   },
   "cell_type": "code",
   "source": "df = pd.DataFrame(data)",
   "id": "dc9efd4da5a395c8",
   "outputs": [],
   "execution_count": 45
  },
  {
   "metadata": {
    "ExecuteTime": {
     "end_time": "2025-05-04T18:14:41.779808Z",
     "start_time": "2025-05-04T18:14:41.777479Z"
    }
   },
   "cell_type": "code",
   "source": "cols = ['Su', 'Sy']",
   "id": "38a7de7f22576708",
   "outputs": [],
   "execution_count": 46
  },
  {
   "metadata": {
    "ExecuteTime": {
     "end_time": "2025-05-04T18:14:41.864128Z",
     "start_time": "2025-05-04T18:14:41.860752Z"
    }
   },
   "cell_type": "code",
   "source": "df[cols] = df[cols].apply(pd.to_numeric, errors='coerce')",
   "id": "c567adbe1f2366b4",
   "outputs": [],
   "execution_count": 47
  },
  {
   "metadata": {},
   "cell_type": "markdown",
   "source": [
    "Standardize the columns Su and Sy using Z-score normalization:\n",
    "\n",
    "Z=\n",
    "(X−μ) / \n",
    "σ\n",
    "\n",
    " \n",
    "Where:\n",
    "\n",
    "\n",
    "X is the value\n",
    "\n",
    "\n",
    "μ is the column mean\n",
    "\n",
    "\n",
    "σ is the column standard deviation"
   ],
   "id": "30034473bb13846c"
  },
  {
   "metadata": {
    "ExecuteTime": {
     "end_time": "2025-05-04T18:14:41.924661Z",
     "start_time": "2025-05-04T18:14:41.921188Z"
    }
   },
   "cell_type": "code",
   "source": "df['z_Su'] = (df['Su'] - df['Su'].mean()) / df['Su'].std()",
   "id": "2ecb6c4d4541c7bf",
   "outputs": [],
   "execution_count": 48
  },
  {
   "metadata": {
    "ExecuteTime": {
     "end_time": "2025-05-04T18:14:42.048669Z",
     "start_time": "2025-05-04T18:14:42.045337Z"
    }
   },
   "cell_type": "code",
   "source": "df['z_Sy'] = (df['Sy'] - df['Sy'].mean()) / df['Sy'].std()",
   "id": "ea45b684893f9657",
   "outputs": [],
   "execution_count": 49
  },
  {
   "metadata": {
    "ExecuteTime": {
     "end_time": "2025-05-04T18:14:42.119520Z",
     "start_time": "2025-05-04T18:14:42.113298Z"
    }
   },
   "cell_type": "code",
   "source": "df[['Material', 'Su', 'Sy', 'z_Su', 'z_Sy']].head(5)",
   "id": "e26ad5aa80b0bd25",
   "outputs": [
    {
     "data": {
      "text/plain": [
       "                         Material   Su   Sy      z_Su      z_Sy\n",
       "0   ANSI Steel SAE 1015 as-rolled  421  314 -0.464312 -0.252210\n",
       "1  ANSI Steel SAE 1015 normalized  424  324 -0.455133 -0.217665\n",
       "2    ANSI Steel SAE 1015 annealed  386  284 -0.571399 -0.355843\n",
       "3   ANSI Steel SAE 1020 as-rolled  448  331 -0.381701 -0.193484\n",
       "4  ANSI Steel SAE 1020 normalized  441  346 -0.403119 -0.141668"
      ],
      "text/html": [
       "<div>\n",
       "<style scoped>\n",
       "    .dataframe tbody tr th:only-of-type {\n",
       "        vertical-align: middle;\n",
       "    }\n",
       "\n",
       "    .dataframe tbody tr th {\n",
       "        vertical-align: top;\n",
       "    }\n",
       "\n",
       "    .dataframe thead th {\n",
       "        text-align: right;\n",
       "    }\n",
       "</style>\n",
       "<table border=\"1\" class=\"dataframe\">\n",
       "  <thead>\n",
       "    <tr style=\"text-align: right;\">\n",
       "      <th></th>\n",
       "      <th>Material</th>\n",
       "      <th>Su</th>\n",
       "      <th>Sy</th>\n",
       "      <th>z_Su</th>\n",
       "      <th>z_Sy</th>\n",
       "    </tr>\n",
       "  </thead>\n",
       "  <tbody>\n",
       "    <tr>\n",
       "      <th>0</th>\n",
       "      <td>ANSI Steel SAE 1015 as-rolled</td>\n",
       "      <td>421</td>\n",
       "      <td>314</td>\n",
       "      <td>-0.464312</td>\n",
       "      <td>-0.252210</td>\n",
       "    </tr>\n",
       "    <tr>\n",
       "      <th>1</th>\n",
       "      <td>ANSI Steel SAE 1015 normalized</td>\n",
       "      <td>424</td>\n",
       "      <td>324</td>\n",
       "      <td>-0.455133</td>\n",
       "      <td>-0.217665</td>\n",
       "    </tr>\n",
       "    <tr>\n",
       "      <th>2</th>\n",
       "      <td>ANSI Steel SAE 1015 annealed</td>\n",
       "      <td>386</td>\n",
       "      <td>284</td>\n",
       "      <td>-0.571399</td>\n",
       "      <td>-0.355843</td>\n",
       "    </tr>\n",
       "    <tr>\n",
       "      <th>3</th>\n",
       "      <td>ANSI Steel SAE 1020 as-rolled</td>\n",
       "      <td>448</td>\n",
       "      <td>331</td>\n",
       "      <td>-0.381701</td>\n",
       "      <td>-0.193484</td>\n",
       "    </tr>\n",
       "    <tr>\n",
       "      <th>4</th>\n",
       "      <td>ANSI Steel SAE 1020 normalized</td>\n",
       "      <td>441</td>\n",
       "      <td>346</td>\n",
       "      <td>-0.403119</td>\n",
       "      <td>-0.141668</td>\n",
       "    </tr>\n",
       "  </tbody>\n",
       "</table>\n",
       "</div>"
      ]
     },
     "execution_count": 50,
     "metadata": {},
     "output_type": "execute_result"
    }
   ],
   "execution_count": 50
  },
  {
   "metadata": {},
   "cell_type": "markdown",
   "source": [
    "Problem 8:\n",
    "Create a Boolean column Is_High_Elasticity where E is above the 75th percentile. Use this to group by Use and report mean G.\n"
   ],
   "id": "ec4b947e2a8d5b46"
  },
  {
   "metadata": {
    "ExecuteTime": {
     "end_time": "2025-05-04T18:14:42.181511Z",
     "start_time": "2025-05-04T18:14:42.178506Z"
    }
   },
   "cell_type": "code",
   "source": "df = pd.DataFrame(data)",
   "id": "87946441fbc76039",
   "outputs": [],
   "execution_count": 51
  },
  {
   "metadata": {
    "ExecuteTime": {
     "end_time": "2025-05-04T18:14:42.212821Z",
     "start_time": "2025-05-04T18:14:42.210210Z"
    }
   },
   "cell_type": "code",
   "source": "cols = ['E', 'G']",
   "id": "afe0361ac938bc17",
   "outputs": [],
   "execution_count": 52
  },
  {
   "metadata": {
    "ExecuteTime": {
     "end_time": "2025-05-04T18:14:42.245307Z",
     "start_time": "2025-05-04T18:14:42.241525Z"
    }
   },
   "cell_type": "code",
   "source": "df[cols] = df[cols].apply(pd.to_numeric, errors='coerce')",
   "id": "166261b16482b83",
   "outputs": [],
   "execution_count": 53
  },
  {
   "metadata": {
    "ExecuteTime": {
     "end_time": "2025-05-04T18:14:42.318232Z",
     "start_time": "2025-05-04T18:14:42.314257Z"
    }
   },
   "cell_type": "code",
   "source": "e_75 = df['E'].quantile(0.75)",
   "id": "9fa3ae24f4f6d2ec",
   "outputs": [],
   "execution_count": 54
  },
  {
   "metadata": {
    "ExecuteTime": {
     "end_time": "2025-05-04T18:14:42.434702Z",
     "start_time": "2025-05-04T18:14:42.430984Z"
    }
   },
   "cell_type": "code",
   "source": "df['Is_High_Elasticity'] = df['E'] > e_75",
   "id": "3c31454fb474ec11",
   "outputs": [],
   "execution_count": 55
  },
  {
   "metadata": {
    "ExecuteTime": {
     "end_time": "2025-05-04T18:14:42.497998Z",
     "start_time": "2025-05-04T18:14:42.491392Z"
    }
   },
   "cell_type": "code",
   "source": "df.groupby(['Use', 'Is_High_Elasticity'])['G'].mean().reset_index()",
   "id": "1b8ecda888c51c10",
   "outputs": [
    {
     "data": {
      "text/plain": [
       "     Use  Is_High_Elasticity             G\n",
       "0  False               False  86974.474960\n",
       "1  False                True  80625.698324\n",
       "2   True               False  79556.521739\n",
       "3   True                True  79700.000000"
      ],
      "text/html": [
       "<div>\n",
       "<style scoped>\n",
       "    .dataframe tbody tr th:only-of-type {\n",
       "        vertical-align: middle;\n",
       "    }\n",
       "\n",
       "    .dataframe tbody tr th {\n",
       "        vertical-align: top;\n",
       "    }\n",
       "\n",
       "    .dataframe thead th {\n",
       "        text-align: right;\n",
       "    }\n",
       "</style>\n",
       "<table border=\"1\" class=\"dataframe\">\n",
       "  <thead>\n",
       "    <tr style=\"text-align: right;\">\n",
       "      <th></th>\n",
       "      <th>Use</th>\n",
       "      <th>Is_High_Elasticity</th>\n",
       "      <th>G</th>\n",
       "    </tr>\n",
       "  </thead>\n",
       "  <tbody>\n",
       "    <tr>\n",
       "      <th>0</th>\n",
       "      <td>False</td>\n",
       "      <td>False</td>\n",
       "      <td>86974.474960</td>\n",
       "    </tr>\n",
       "    <tr>\n",
       "      <th>1</th>\n",
       "      <td>False</td>\n",
       "      <td>True</td>\n",
       "      <td>80625.698324</td>\n",
       "    </tr>\n",
       "    <tr>\n",
       "      <th>2</th>\n",
       "      <td>True</td>\n",
       "      <td>False</td>\n",
       "      <td>79556.521739</td>\n",
       "    </tr>\n",
       "    <tr>\n",
       "      <th>3</th>\n",
       "      <td>True</td>\n",
       "      <td>True</td>\n",
       "      <td>79700.000000</td>\n",
       "    </tr>\n",
       "  </tbody>\n",
       "</table>\n",
       "</div>"
      ]
     },
     "execution_count": 56,
     "metadata": {},
     "output_type": "execute_result"
    }
   ],
   "execution_count": 56
  },
  {
   "metadata": {},
   "cell_type": "markdown",
   "source": "### Section 2: Function Application and Mapping (7 Problems)\n",
   "id": "3d72f8c601dcf2d2"
  },
  {
   "metadata": {},
   "cell_type": "markdown",
   "source": [
    "Problem 9:\n",
    "Write a function that returns 'Brittle' if mu < 0.25, 'Moderate' if mu <= 0.35, else 'Ductile'. Apply it to the mu column using map."
   ],
   "id": "cb9c48dc8548453e"
  },
  {
   "metadata": {
    "ExecuteTime": {
     "end_time": "2025-05-04T18:14:42.599260Z",
     "start_time": "2025-05-04T18:14:42.596758Z"
    }
   },
   "cell_type": "code",
   "source": "df = pd.DataFrame(data)",
   "id": "d2e8464841d01bc9",
   "outputs": [],
   "execution_count": 57
  },
  {
   "metadata": {
    "ExecuteTime": {
     "end_time": "2025-05-04T18:14:42.634274Z",
     "start_time": "2025-05-04T18:14:42.631408Z"
    }
   },
   "cell_type": "code",
   "source": [
    "def mu_category(mu_value):\n",
    "    category = ''\n",
    "    if pd.isna(mu_value):\n",
    "        category = 'Unknown'\n",
    "    elif mu_value < 0.25:\n",
    "        category = 'Brittle'\n",
    "    elif mu_value <= 0.35:\n",
    "        category = 'Moderate'\n",
    "    else:\n",
    "        category = 'Ductile'\n",
    "    return category"
   ],
   "id": "5710bd70363d5902",
   "outputs": [],
   "execution_count": 58
  },
  {
   "metadata": {
    "ExecuteTime": {
     "end_time": "2025-05-04T18:14:42.697954Z",
     "start_time": "2025-05-04T18:14:42.693534Z"
    }
   },
   "cell_type": "code",
   "source": "df['mu'] = df['mu'].apply(pd.to_numeric, errors='coerce')",
   "id": "f6270a300d47c4c0",
   "outputs": [],
   "execution_count": 59
  },
  {
   "metadata": {
    "ExecuteTime": {
     "end_time": "2025-05-04T18:14:42.772111Z",
     "start_time": "2025-05-04T18:14:42.768529Z"
    }
   },
   "cell_type": "code",
   "source": "df['mu_category'] = df['mu'].map(mu_category)",
   "id": "d2bda69f20aa77e6",
   "outputs": [],
   "execution_count": 60
  },
  {
   "metadata": {
    "ExecuteTime": {
     "end_time": "2025-05-04T18:14:42.891061Z",
     "start_time": "2025-05-04T18:14:42.884714Z"
    }
   },
   "cell_type": "code",
   "source": "df[['Material', 'mu', 'mu_category']].head(5)",
   "id": "bdf45b4bffcd1c11",
   "outputs": [
    {
     "data": {
      "text/plain": [
       "                         Material   mu mu_category\n",
       "0   ANSI Steel SAE 1015 as-rolled  0.3    Moderate\n",
       "1  ANSI Steel SAE 1015 normalized  0.3    Moderate\n",
       "2    ANSI Steel SAE 1015 annealed  0.3    Moderate\n",
       "3   ANSI Steel SAE 1020 as-rolled  0.3    Moderate\n",
       "4  ANSI Steel SAE 1020 normalized  0.3    Moderate"
      ],
      "text/html": [
       "<div>\n",
       "<style scoped>\n",
       "    .dataframe tbody tr th:only-of-type {\n",
       "        vertical-align: middle;\n",
       "    }\n",
       "\n",
       "    .dataframe tbody tr th {\n",
       "        vertical-align: top;\n",
       "    }\n",
       "\n",
       "    .dataframe thead th {\n",
       "        text-align: right;\n",
       "    }\n",
       "</style>\n",
       "<table border=\"1\" class=\"dataframe\">\n",
       "  <thead>\n",
       "    <tr style=\"text-align: right;\">\n",
       "      <th></th>\n",
       "      <th>Material</th>\n",
       "      <th>mu</th>\n",
       "      <th>mu_category</th>\n",
       "    </tr>\n",
       "  </thead>\n",
       "  <tbody>\n",
       "    <tr>\n",
       "      <th>0</th>\n",
       "      <td>ANSI Steel SAE 1015 as-rolled</td>\n",
       "      <td>0.3</td>\n",
       "      <td>Moderate</td>\n",
       "    </tr>\n",
       "    <tr>\n",
       "      <th>1</th>\n",
       "      <td>ANSI Steel SAE 1015 normalized</td>\n",
       "      <td>0.3</td>\n",
       "      <td>Moderate</td>\n",
       "    </tr>\n",
       "    <tr>\n",
       "      <th>2</th>\n",
       "      <td>ANSI Steel SAE 1015 annealed</td>\n",
       "      <td>0.3</td>\n",
       "      <td>Moderate</td>\n",
       "    </tr>\n",
       "    <tr>\n",
       "      <th>3</th>\n",
       "      <td>ANSI Steel SAE 1020 as-rolled</td>\n",
       "      <td>0.3</td>\n",
       "      <td>Moderate</td>\n",
       "    </tr>\n",
       "    <tr>\n",
       "      <th>4</th>\n",
       "      <td>ANSI Steel SAE 1020 normalized</td>\n",
       "      <td>0.3</td>\n",
       "      <td>Moderate</td>\n",
       "    </tr>\n",
       "  </tbody>\n",
       "</table>\n",
       "</div>"
      ]
     },
     "execution_count": 61,
     "metadata": {},
     "output_type": "execute_result"
    }
   ],
   "execution_count": 61
  },
  {
   "metadata": {},
   "cell_type": "markdown",
   "source": [
    "Problem 10:\n",
    "Use apply() to compute the range (max - min) for each material’s numeric properties."
   ],
   "id": "5f11d6f0473a7741"
  },
  {
   "metadata": {
    "ExecuteTime": {
     "end_time": "2025-05-04T18:14:42.933544Z",
     "start_time": "2025-05-04T18:14:42.930996Z"
    }
   },
   "cell_type": "code",
   "source": "df = pd.DataFrame(data)",
   "id": "fc6a4380b69755ec",
   "outputs": [],
   "execution_count": 62
  },
  {
   "metadata": {
    "ExecuteTime": {
     "end_time": "2025-05-04T18:14:42.992056Z",
     "start_time": "2025-05-04T18:14:42.989426Z"
    }
   },
   "cell_type": "code",
   "source": "numeric_columns = df.select_dtypes(include=[np.number]).columns",
   "id": "e19ae1d2b1e3ca31",
   "outputs": [],
   "execution_count": 63
  },
  {
   "metadata": {
    "ExecuteTime": {
     "end_time": "2025-05-04T18:14:43.079293Z",
     "start_time": "2025-05-04T18:14:43.074460Z"
    }
   },
   "cell_type": "code",
   "source": "numeric_columns",
   "id": "867b102ab34a535b",
   "outputs": [
    {
     "data": {
      "text/plain": [
       "Index(['Su', 'Sy', 'E', 'G', 'mu', 'Ro'], dtype='object')"
      ]
     },
     "execution_count": 64,
     "metadata": {},
     "output_type": "execute_result"
    }
   ],
   "execution_count": 64
  },
  {
   "metadata": {
    "ExecuteTime": {
     "end_time": "2025-05-04T18:14:43.167227Z",
     "start_time": "2025-05-04T18:14:43.164908Z"
    }
   },
   "cell_type": "code",
   "source": [
    "def compute_range(x):\n",
    "    return x.max() - x.min()"
   ],
   "id": "6c2ffe35f00fb51b",
   "outputs": [],
   "execution_count": 65
  },
  {
   "metadata": {
    "ExecuteTime": {
     "end_time": "2025-05-04T18:14:43.223629Z",
     "start_time": "2025-05-04T18:14:43.216172Z"
    }
   },
   "cell_type": "code",
   "source": "df[numeric_columns].apply(compute_range, axis=0)",
   "id": "3eb374e16ff4b36f",
   "outputs": [
    {
     "data": {
      "text/plain": [
       "Su      2151.00\n",
       "Sy      2020.00\n",
       "E     146000.00\n",
       "G     743000.00\n",
       "mu         0.15\n",
       "Ro      7180.00\n",
       "dtype: float64"
      ]
     },
     "execution_count": 66,
     "metadata": {},
     "output_type": "execute_result"
    }
   ],
   "execution_count": 66
  },
  {
   "metadata": {},
   "cell_type": "markdown",
   "source": [
    "Problem 11:\n",
    "Apply a function across columns that classifies materials as 'Low Strength', 'Medium Strength', or 'High Strength' based on Su."
   ],
   "id": "cd0a177d3825e6a5"
  },
  {
   "metadata": {
    "ExecuteTime": {
     "end_time": "2025-05-04T18:14:43.271668Z",
     "start_time": "2025-05-04T18:14:43.269414Z"
    }
   },
   "cell_type": "code",
   "source": "df = pd.DataFrame(data)",
   "id": "a57213a2429dde81",
   "outputs": [],
   "execution_count": 67
  },
  {
   "metadata": {
    "ExecuteTime": {
     "end_time": "2025-05-04T18:14:43.309033Z",
     "start_time": "2025-05-04T18:14:43.302323Z"
    }
   },
   "cell_type": "code",
   "source": "df['Su'] = df['Su'].apply(pd.to_numeric, errors='coerce')",
   "id": "6d882b55d7bdd41",
   "outputs": [],
   "execution_count": 68
  },
  {
   "metadata": {
    "ExecuteTime": {
     "end_time": "2025-05-04T18:14:43.326464Z",
     "start_time": "2025-05-04T18:14:43.322068Z"
    }
   },
   "cell_type": "code",
   "source": [
    "low_strength = df['Su'].quantile(0.33)\n",
    "low_strength"
   ],
   "id": "6e7b993580aa880",
   "outputs": [
    {
     "data": {
      "text/plain": [
       "np.float64(410.0)"
      ]
     },
     "execution_count": 69,
     "metadata": {},
     "output_type": "execute_result"
    }
   ],
   "execution_count": 69
  },
  {
   "metadata": {
    "ExecuteTime": {
     "end_time": "2025-05-04T18:14:43.382803Z",
     "start_time": "2025-05-04T18:14:43.378713Z"
    }
   },
   "cell_type": "code",
   "source": [
    "high_strength = df['Su'].quantile(0.66)\n",
    "high_strength"
   ],
   "id": "70c66a239f19395b",
   "outputs": [
    {
     "data": {
      "text/plain": [
       "np.float64(630.0)"
      ]
     },
     "execution_count": 70,
     "metadata": {},
     "output_type": "execute_result"
    }
   ],
   "execution_count": 70
  },
  {
   "metadata": {
    "ExecuteTime": {
     "end_time": "2025-05-04T18:14:43.417038Z",
     "start_time": "2025-05-04T18:14:43.414406Z"
    }
   },
   "cell_type": "code",
   "source": [
    "def material_classification(su_values):\n",
    "    if pd.isna(su_values):\n",
    "        return 'Unknown'\n",
    "    elif su_values <= low_strength:\n",
    "        return 'Low Strength'\n",
    "    elif su_values <= high_strength:\n",
    "        return 'Medium Strength'\n",
    "    else:\n",
    "        return 'High Strength'"
   ],
   "id": "2752546def331517",
   "outputs": [],
   "execution_count": 71
  },
  {
   "metadata": {
    "ExecuteTime": {
     "end_time": "2025-05-04T18:14:43.464533Z",
     "start_time": "2025-05-04T18:14:43.461246Z"
    }
   },
   "cell_type": "code",
   "source": "df['su_class'] = df['Su'].apply(material_classification)",
   "id": "76e705e8bc388c6f",
   "outputs": [],
   "execution_count": 72
  },
  {
   "metadata": {
    "ExecuteTime": {
     "end_time": "2025-05-04T18:14:43.526967Z",
     "start_time": "2025-05-04T18:14:43.522066Z"
    }
   },
   "cell_type": "code",
   "source": "df[['Material', 'su_class']].head(5)",
   "id": "de88316a99a081ec",
   "outputs": [
    {
     "data": {
      "text/plain": [
       "                         Material         su_class\n",
       "0   ANSI Steel SAE 1015 as-rolled  Medium Strength\n",
       "1  ANSI Steel SAE 1015 normalized  Medium Strength\n",
       "2    ANSI Steel SAE 1015 annealed     Low Strength\n",
       "3   ANSI Steel SAE 1020 as-rolled  Medium Strength\n",
       "4  ANSI Steel SAE 1020 normalized  Medium Strength"
      ],
      "text/html": [
       "<div>\n",
       "<style scoped>\n",
       "    .dataframe tbody tr th:only-of-type {\n",
       "        vertical-align: middle;\n",
       "    }\n",
       "\n",
       "    .dataframe tbody tr th {\n",
       "        vertical-align: top;\n",
       "    }\n",
       "\n",
       "    .dataframe thead th {\n",
       "        text-align: right;\n",
       "    }\n",
       "</style>\n",
       "<table border=\"1\" class=\"dataframe\">\n",
       "  <thead>\n",
       "    <tr style=\"text-align: right;\">\n",
       "      <th></th>\n",
       "      <th>Material</th>\n",
       "      <th>su_class</th>\n",
       "    </tr>\n",
       "  </thead>\n",
       "  <tbody>\n",
       "    <tr>\n",
       "      <th>0</th>\n",
       "      <td>ANSI Steel SAE 1015 as-rolled</td>\n",
       "      <td>Medium Strength</td>\n",
       "    </tr>\n",
       "    <tr>\n",
       "      <th>1</th>\n",
       "      <td>ANSI Steel SAE 1015 normalized</td>\n",
       "      <td>Medium Strength</td>\n",
       "    </tr>\n",
       "    <tr>\n",
       "      <th>2</th>\n",
       "      <td>ANSI Steel SAE 1015 annealed</td>\n",
       "      <td>Low Strength</td>\n",
       "    </tr>\n",
       "    <tr>\n",
       "      <th>3</th>\n",
       "      <td>ANSI Steel SAE 1020 as-rolled</td>\n",
       "      <td>Medium Strength</td>\n",
       "    </tr>\n",
       "    <tr>\n",
       "      <th>4</th>\n",
       "      <td>ANSI Steel SAE 1020 normalized</td>\n",
       "      <td>Medium Strength</td>\n",
       "    </tr>\n",
       "  </tbody>\n",
       "</table>\n",
       "</div>"
      ]
     },
     "execution_count": 73,
     "metadata": {},
     "output_type": "execute_result"
    }
   ],
   "execution_count": 73
  },
  {
   "metadata": {},
   "cell_type": "markdown",
   "source": [
    "Problem 12:\n",
    "Use apply() with axis=1 to calculate a material’s total stiffness score:\n",
    "TotalStiffness = E + G + Ro"
   ],
   "id": "6595f8a4500e30a2"
  },
  {
   "metadata": {
    "ExecuteTime": {
     "end_time": "2025-05-04T18:14:43.585397Z",
     "start_time": "2025-05-04T18:14:43.583074Z"
    }
   },
   "cell_type": "code",
   "source": "df = pd.DataFrame(data)",
   "id": "e3bb744176d9f5a2",
   "outputs": [],
   "execution_count": 74
  },
  {
   "metadata": {
    "ExecuteTime": {
     "end_time": "2025-05-04T18:14:43.631460Z",
     "start_time": "2025-05-04T18:14:43.628394Z"
    }
   },
   "cell_type": "code",
   "source": "cols = ['E', 'G', 'Ro']",
   "id": "57217082be8c6e0d",
   "outputs": [],
   "execution_count": 75
  },
  {
   "metadata": {
    "ExecuteTime": {
     "end_time": "2025-05-04T18:14:43.707414Z",
     "start_time": "2025-05-04T18:14:43.703518Z"
    }
   },
   "cell_type": "code",
   "source": "df[cols] = df[cols].apply(pd.to_numeric, errors='coerce')",
   "id": "90d28581a405ce1a",
   "outputs": [],
   "execution_count": 76
  },
  {
   "metadata": {
    "ExecuteTime": {
     "end_time": "2025-05-04T18:14:43.773460Z",
     "start_time": "2025-05-04T18:14:43.770826Z"
    }
   },
   "cell_type": "code",
   "source": [
    "def total_stiffness(frame):\n",
    "    return frame['E'] + frame['G'] + frame['Ro']"
   ],
   "id": "17f7316b455ed288",
   "outputs": [],
   "execution_count": 77
  },
  {
   "metadata": {
    "ExecuteTime": {
     "end_time": "2025-05-04T18:14:43.880165Z",
     "start_time": "2025-05-04T18:14:43.869829Z"
    }
   },
   "cell_type": "code",
   "source": "df['total_stiffness'] = df.apply(total_stiffness, axis=1)",
   "id": "1fc609f7d0d3d7c4",
   "outputs": [],
   "execution_count": 78
  },
  {
   "metadata": {
    "ExecuteTime": {
     "end_time": "2025-05-04T18:14:43.906629Z",
     "start_time": "2025-05-04T18:14:43.901176Z"
    }
   },
   "cell_type": "code",
   "source": "df[['Material'] + cols].head(5)",
   "id": "251afdd0f2969eda",
   "outputs": [
    {
     "data": {
      "text/plain": [
       "                         Material       E      G    Ro\n",
       "0   ANSI Steel SAE 1015 as-rolled  207000  79000  7860\n",
       "1  ANSI Steel SAE 1015 normalized  207000  79000  7860\n",
       "2    ANSI Steel SAE 1015 annealed  207000  79000  7860\n",
       "3   ANSI Steel SAE 1020 as-rolled  207000  79000  7860\n",
       "4  ANSI Steel SAE 1020 normalized  207000  79000  7860"
      ],
      "text/html": [
       "<div>\n",
       "<style scoped>\n",
       "    .dataframe tbody tr th:only-of-type {\n",
       "        vertical-align: middle;\n",
       "    }\n",
       "\n",
       "    .dataframe tbody tr th {\n",
       "        vertical-align: top;\n",
       "    }\n",
       "\n",
       "    .dataframe thead th {\n",
       "        text-align: right;\n",
       "    }\n",
       "</style>\n",
       "<table border=\"1\" class=\"dataframe\">\n",
       "  <thead>\n",
       "    <tr style=\"text-align: right;\">\n",
       "      <th></th>\n",
       "      <th>Material</th>\n",
       "      <th>E</th>\n",
       "      <th>G</th>\n",
       "      <th>Ro</th>\n",
       "    </tr>\n",
       "  </thead>\n",
       "  <tbody>\n",
       "    <tr>\n",
       "      <th>0</th>\n",
       "      <td>ANSI Steel SAE 1015 as-rolled</td>\n",
       "      <td>207000</td>\n",
       "      <td>79000</td>\n",
       "      <td>7860</td>\n",
       "    </tr>\n",
       "    <tr>\n",
       "      <th>1</th>\n",
       "      <td>ANSI Steel SAE 1015 normalized</td>\n",
       "      <td>207000</td>\n",
       "      <td>79000</td>\n",
       "      <td>7860</td>\n",
       "    </tr>\n",
       "    <tr>\n",
       "      <th>2</th>\n",
       "      <td>ANSI Steel SAE 1015 annealed</td>\n",
       "      <td>207000</td>\n",
       "      <td>79000</td>\n",
       "      <td>7860</td>\n",
       "    </tr>\n",
       "    <tr>\n",
       "      <th>3</th>\n",
       "      <td>ANSI Steel SAE 1020 as-rolled</td>\n",
       "      <td>207000</td>\n",
       "      <td>79000</td>\n",
       "      <td>7860</td>\n",
       "    </tr>\n",
       "    <tr>\n",
       "      <th>4</th>\n",
       "      <td>ANSI Steel SAE 1020 normalized</td>\n",
       "      <td>207000</td>\n",
       "      <td>79000</td>\n",
       "      <td>7860</td>\n",
       "    </tr>\n",
       "  </tbody>\n",
       "</table>\n",
       "</div>"
      ]
     },
     "execution_count": 79,
     "metadata": {},
     "output_type": "execute_result"
    }
   ],
   "execution_count": 79
  },
  {
   "metadata": {},
   "cell_type": "markdown",
   "source": [
    "Problem 13:\n",
    "Format all floating-point values in the DataFrame to two decimal places using map()."
   ],
   "id": "a3b4f4cd28e13435"
  },
  {
   "metadata": {
    "ExecuteTime": {
     "end_time": "2025-05-04T18:14:43.946209Z",
     "start_time": "2025-05-04T18:14:43.943577Z"
    }
   },
   "cell_type": "code",
   "source": "df = pd.DataFrame(data)",
   "id": "1c18e719aeaa4350",
   "outputs": [],
   "execution_count": 80
  },
  {
   "metadata": {
    "ExecuteTime": {
     "end_time": "2025-05-04T18:14:43.977083Z",
     "start_time": "2025-05-04T18:14:43.974095Z"
    }
   },
   "cell_type": "code",
   "source": "numeric_columns = df.select_dtypes(include=[np.number]).columns",
   "id": "e9d4562e2d0e40a2",
   "outputs": [],
   "execution_count": 81
  },
  {
   "metadata": {
    "ExecuteTime": {
     "end_time": "2025-05-04T18:14:44.008967Z",
     "start_time": "2025-05-04T18:14:44.006473Z"
    }
   },
   "cell_type": "code",
   "source": [
    "def format_num(num):\n",
    "    return f'{num:.2f}'"
   ],
   "id": "be57914b38d8a145",
   "outputs": [],
   "execution_count": 82
  },
  {
   "metadata": {
    "ExecuteTime": {
     "end_time": "2025-05-04T18:14:44.069017Z",
     "start_time": "2025-05-04T18:14:44.062073Z"
    }
   },
   "cell_type": "code",
   "source": "df[numeric_cols] = df[numeric_columns].map(format_num)",
   "id": "b387c6b8b9c7519a",
   "outputs": [],
   "execution_count": 83
  },
  {
   "metadata": {
    "ExecuteTime": {
     "end_time": "2025-05-04T18:14:44.147111Z",
     "start_time": "2025-05-04T18:14:44.140782Z"
    }
   },
   "cell_type": "code",
   "source": "df[['Material'] + cols].head(5)",
   "id": "92822e69e9adf5dd",
   "outputs": [
    {
     "data": {
      "text/plain": [
       "                         Material          E         G       Ro\n",
       "0   ANSI Steel SAE 1015 as-rolled  207000.00  79000.00  7860.00\n",
       "1  ANSI Steel SAE 1015 normalized  207000.00  79000.00  7860.00\n",
       "2    ANSI Steel SAE 1015 annealed  207000.00  79000.00  7860.00\n",
       "3   ANSI Steel SAE 1020 as-rolled  207000.00  79000.00  7860.00\n",
       "4  ANSI Steel SAE 1020 normalized  207000.00  79000.00  7860.00"
      ],
      "text/html": [
       "<div>\n",
       "<style scoped>\n",
       "    .dataframe tbody tr th:only-of-type {\n",
       "        vertical-align: middle;\n",
       "    }\n",
       "\n",
       "    .dataframe tbody tr th {\n",
       "        vertical-align: top;\n",
       "    }\n",
       "\n",
       "    .dataframe thead th {\n",
       "        text-align: right;\n",
       "    }\n",
       "</style>\n",
       "<table border=\"1\" class=\"dataframe\">\n",
       "  <thead>\n",
       "    <tr style=\"text-align: right;\">\n",
       "      <th></th>\n",
       "      <th>Material</th>\n",
       "      <th>E</th>\n",
       "      <th>G</th>\n",
       "      <th>Ro</th>\n",
       "    </tr>\n",
       "  </thead>\n",
       "  <tbody>\n",
       "    <tr>\n",
       "      <th>0</th>\n",
       "      <td>ANSI Steel SAE 1015 as-rolled</td>\n",
       "      <td>207000.00</td>\n",
       "      <td>79000.00</td>\n",
       "      <td>7860.00</td>\n",
       "    </tr>\n",
       "    <tr>\n",
       "      <th>1</th>\n",
       "      <td>ANSI Steel SAE 1015 normalized</td>\n",
       "      <td>207000.00</td>\n",
       "      <td>79000.00</td>\n",
       "      <td>7860.00</td>\n",
       "    </tr>\n",
       "    <tr>\n",
       "      <th>2</th>\n",
       "      <td>ANSI Steel SAE 1015 annealed</td>\n",
       "      <td>207000.00</td>\n",
       "      <td>79000.00</td>\n",
       "      <td>7860.00</td>\n",
       "    </tr>\n",
       "    <tr>\n",
       "      <th>3</th>\n",
       "      <td>ANSI Steel SAE 1020 as-rolled</td>\n",
       "      <td>207000.00</td>\n",
       "      <td>79000.00</td>\n",
       "      <td>7860.00</td>\n",
       "    </tr>\n",
       "    <tr>\n",
       "      <th>4</th>\n",
       "      <td>ANSI Steel SAE 1020 normalized</td>\n",
       "      <td>207000.00</td>\n",
       "      <td>79000.00</td>\n",
       "      <td>7860.00</td>\n",
       "    </tr>\n",
       "  </tbody>\n",
       "</table>\n",
       "</div>"
      ]
     },
     "execution_count": 84,
     "metadata": {},
     "output_type": "execute_result"
    }
   ],
   "execution_count": 84
  },
  {
   "metadata": {},
   "cell_type": "markdown",
   "source": [
    "Problem 14:\n",
    "Use map() to replace all True/False in the Use column with Suitable/Unsuitable.\n"
   ],
   "id": "d1736c829fa93607"
  },
  {
   "metadata": {
    "ExecuteTime": {
     "end_time": "2025-05-04T18:14:44.232745Z",
     "start_time": "2025-05-04T18:14:44.230126Z"
    }
   },
   "cell_type": "code",
   "source": "df = pd.DataFrame(data)",
   "id": "e2f80821f5b67c5e",
   "outputs": [],
   "execution_count": 85
  },
  {
   "metadata": {
    "ExecuteTime": {
     "end_time": "2025-05-04T18:14:44.260035Z",
     "start_time": "2025-05-04T18:14:44.257461Z"
    }
   },
   "cell_type": "code",
   "source": [
    "def replace_t_f(x):\n",
    "    if x:\n",
    "        return 'Suitable'\n",
    "    else:\n",
    "        return 'Unsuitable'"
   ],
   "id": "6dc89a14a84a0f7d",
   "outputs": [],
   "execution_count": 86
  },
  {
   "metadata": {
    "ExecuteTime": {
     "end_time": "2025-05-04T18:14:44.337050Z",
     "start_time": "2025-05-04T18:14:44.334306Z"
    }
   },
   "cell_type": "code",
   "source": "df['new_Use'] = df['Use'].map(replace_t_f)",
   "id": "ae5251d4f171709d",
   "outputs": [],
   "execution_count": 87
  },
  {
   "metadata": {
    "ExecuteTime": {
     "end_time": "2025-05-04T18:14:44.410063Z",
     "start_time": "2025-05-04T18:14:44.404544Z"
    }
   },
   "cell_type": "code",
   "source": "df[['Material', 'Use', 'new_Use']].head(5)",
   "id": "b444889a984b1fae",
   "outputs": [
    {
     "data": {
      "text/plain": [
       "                         Material   Use   new_Use\n",
       "0   ANSI Steel SAE 1015 as-rolled  True  Suitable\n",
       "1  ANSI Steel SAE 1015 normalized  True  Suitable\n",
       "2    ANSI Steel SAE 1015 annealed  True  Suitable\n",
       "3   ANSI Steel SAE 1020 as-rolled  True  Suitable\n",
       "4  ANSI Steel SAE 1020 normalized  True  Suitable"
      ],
      "text/html": [
       "<div>\n",
       "<style scoped>\n",
       "    .dataframe tbody tr th:only-of-type {\n",
       "        vertical-align: middle;\n",
       "    }\n",
       "\n",
       "    .dataframe tbody tr th {\n",
       "        vertical-align: top;\n",
       "    }\n",
       "\n",
       "    .dataframe thead th {\n",
       "        text-align: right;\n",
       "    }\n",
       "</style>\n",
       "<table border=\"1\" class=\"dataframe\">\n",
       "  <thead>\n",
       "    <tr style=\"text-align: right;\">\n",
       "      <th></th>\n",
       "      <th>Material</th>\n",
       "      <th>Use</th>\n",
       "      <th>new_Use</th>\n",
       "    </tr>\n",
       "  </thead>\n",
       "  <tbody>\n",
       "    <tr>\n",
       "      <th>0</th>\n",
       "      <td>ANSI Steel SAE 1015 as-rolled</td>\n",
       "      <td>True</td>\n",
       "      <td>Suitable</td>\n",
       "    </tr>\n",
       "    <tr>\n",
       "      <th>1</th>\n",
       "      <td>ANSI Steel SAE 1015 normalized</td>\n",
       "      <td>True</td>\n",
       "      <td>Suitable</td>\n",
       "    </tr>\n",
       "    <tr>\n",
       "      <th>2</th>\n",
       "      <td>ANSI Steel SAE 1015 annealed</td>\n",
       "      <td>True</td>\n",
       "      <td>Suitable</td>\n",
       "    </tr>\n",
       "    <tr>\n",
       "      <th>3</th>\n",
       "      <td>ANSI Steel SAE 1020 as-rolled</td>\n",
       "      <td>True</td>\n",
       "      <td>Suitable</td>\n",
       "    </tr>\n",
       "    <tr>\n",
       "      <th>4</th>\n",
       "      <td>ANSI Steel SAE 1020 normalized</td>\n",
       "      <td>True</td>\n",
       "      <td>Suitable</td>\n",
       "    </tr>\n",
       "  </tbody>\n",
       "</table>\n",
       "</div>"
      ]
     },
     "execution_count": 88,
     "metadata": {},
     "output_type": "execute_result"
    }
   ],
   "execution_count": 88
  },
  {
   "metadata": {},
   "cell_type": "markdown",
   "source": [
    "Problem 15:\n",
    "Group the dataset by whether Sy is above or below the median, and compute average Su, E, and Ro for each group using apply."
   ],
   "id": "242d6bf353aa5fa3"
  },
  {
   "metadata": {
    "ExecuteTime": {
     "end_time": "2025-05-04T18:14:44.512904Z",
     "start_time": "2025-05-04T18:14:44.510460Z"
    }
   },
   "cell_type": "code",
   "source": "df = pd.DataFrame(data)",
   "id": "37cc8c19491e0322",
   "outputs": [],
   "execution_count": 89
  },
  {
   "metadata": {
    "ExecuteTime": {
     "end_time": "2025-05-04T18:14:44.545015Z",
     "start_time": "2025-05-04T18:14:44.542457Z"
    }
   },
   "cell_type": "code",
   "source": "cols = ['Sy', 'Su', 'E', 'Ro']",
   "id": "5467ff914c861af6",
   "outputs": [],
   "execution_count": 90
  },
  {
   "metadata": {
    "ExecuteTime": {
     "end_time": "2025-05-04T18:14:44.618270Z",
     "start_time": "2025-05-04T18:14:44.613595Z"
    }
   },
   "cell_type": "code",
   "source": "df[cols] = df[cols].apply(pd.to_numeric, errors='coerce')",
   "id": "5cfb468856cb48dd",
   "outputs": [],
   "execution_count": 91
  },
  {
   "metadata": {
    "ExecuteTime": {
     "end_time": "2025-05-04T18:14:44.667692Z",
     "start_time": "2025-05-04T18:14:44.663701Z"
    }
   },
   "cell_type": "code",
   "source": [
    "sy_median = df['Sy'].median()\n",
    "sy_median"
   ],
   "id": "cde03cd697f16245",
   "outputs": [
    {
     "data": {
      "text/plain": [
       "np.float64(305.0)"
      ]
     },
     "execution_count": 92,
     "metadata": {},
     "output_type": "execute_result"
    }
   ],
   "execution_count": 92
  },
  {
   "metadata": {
    "ExecuteTime": {
     "end_time": "2025-05-04T18:14:44.755976Z",
     "start_time": "2025-05-04T18:14:44.753391Z"
    }
   },
   "cell_type": "code",
   "source": [
    "def sy_below_above(x):\n",
    "    if pd.isna(x):\n",
    "        return 'Unknown'\n",
    "    elif x < sy_median:\n",
    "        return 'Below'\n",
    "    else:\n",
    "        return 'Above'"
   ],
   "id": "d8ea392b0c31c881",
   "outputs": [],
   "execution_count": 93
  },
  {
   "metadata": {
    "ExecuteTime": {
     "end_time": "2025-05-04T18:14:44.801208Z",
     "start_time": "2025-05-04T18:14:44.797714Z"
    }
   },
   "cell_type": "code",
   "source": "df['Sy_category'] = df['Sy'].apply(sy_below_above)",
   "id": "cfa7a97b6eebb144",
   "outputs": [],
   "execution_count": 94
  },
  {
   "metadata": {
    "ExecuteTime": {
     "end_time": "2025-05-04T18:14:44.846846Z",
     "start_time": "2025-05-04T18:14:44.842924Z"
    }
   },
   "cell_type": "code",
   "source": "result = df.groupby('Sy_category')[cols].mean().reset_index()",
   "id": "60d2079769a4de39",
   "outputs": [],
   "execution_count": 95
  },
  {
   "metadata": {
    "ExecuteTime": {
     "end_time": "2025-05-04T18:14:44.887898Z",
     "start_time": "2025-05-04T18:14:44.881873Z"
    }
   },
   "cell_type": "code",
   "source": "result.round(2).head(5)",
   "id": "bb5f895d714baab0",
   "outputs": [
    {
     "data": {
      "text/plain": [
       "  Sy_category      Sy     Su          E       Ro\n",
       "0       Above  576.97  793.1  192825.42  7549.72\n",
       "1       Below  195.58  350.7  136098.32  6305.16"
      ],
      "text/html": [
       "<div>\n",
       "<style scoped>\n",
       "    .dataframe tbody tr th:only-of-type {\n",
       "        vertical-align: middle;\n",
       "    }\n",
       "\n",
       "    .dataframe tbody tr th {\n",
       "        vertical-align: top;\n",
       "    }\n",
       "\n",
       "    .dataframe thead th {\n",
       "        text-align: right;\n",
       "    }\n",
       "</style>\n",
       "<table border=\"1\" class=\"dataframe\">\n",
       "  <thead>\n",
       "    <tr style=\"text-align: right;\">\n",
       "      <th></th>\n",
       "      <th>Sy_category</th>\n",
       "      <th>Sy</th>\n",
       "      <th>Su</th>\n",
       "      <th>E</th>\n",
       "      <th>Ro</th>\n",
       "    </tr>\n",
       "  </thead>\n",
       "  <tbody>\n",
       "    <tr>\n",
       "      <th>0</th>\n",
       "      <td>Above</td>\n",
       "      <td>576.97</td>\n",
       "      <td>793.1</td>\n",
       "      <td>192825.42</td>\n",
       "      <td>7549.72</td>\n",
       "    </tr>\n",
       "    <tr>\n",
       "      <th>1</th>\n",
       "      <td>Below</td>\n",
       "      <td>195.58</td>\n",
       "      <td>350.7</td>\n",
       "      <td>136098.32</td>\n",
       "      <td>6305.16</td>\n",
       "    </tr>\n",
       "  </tbody>\n",
       "</table>\n",
       "</div>"
      ]
     },
     "execution_count": 96,
     "metadata": {},
     "output_type": "execute_result"
    }
   ],
   "execution_count": 96
  },
  {
   "metadata": {},
   "cell_type": "markdown",
   "source": [
    "## More Problems\n",
    "### **Section A: Arithmetic and Data Alignment (8 problems)**"
   ],
   "id": "ab24f6436c9e0b6a"
  },
  {
   "metadata": {},
   "cell_type": "markdown",
   "source": [
    "1. **Center Data (Mean Subtraction)**\n",
    "   Subtract the mean of each numeric column from its values.\n",
    "   *Expected*: Centered values (mean ≈ 0 per column)."
   ],
   "id": "1970dd7e69362eaf"
  },
  {
   "metadata": {
    "ExecuteTime": {
     "end_time": "2025-05-04T19:13:05.035392Z",
     "start_time": "2025-05-04T19:13:05.029308Z"
    }
   },
   "cell_type": "code",
   "source": "data = pd.read_csv('Data.csv')",
   "id": "6d4114a5c0aedf9d",
   "outputs": [],
   "execution_count": 121
  },
  {
   "metadata": {
    "ExecuteTime": {
     "end_time": "2025-05-04T19:13:05.387548Z",
     "start_time": "2025-05-04T19:13:05.384960Z"
    }
   },
   "cell_type": "code",
   "source": "df = pd.DataFrame(data)",
   "id": "da317d75c617081a",
   "outputs": [],
   "execution_count": 122
  },
  {
   "metadata": {
    "ExecuteTime": {
     "end_time": "2025-05-04T19:13:05.566811Z",
     "start_time": "2025-05-04T19:13:05.559022Z"
    }
   },
   "cell_type": "code",
   "source": "df.head(5)",
   "id": "2bddc4d8b51b2f6b",
   "outputs": [
    {
     "data": {
      "text/plain": [
       "    Std                                ID        Material Heat treatment   Su  \\\n",
       "0  ANSI  D8894772B88F495093C43AF905AB6373  Steel SAE 1015      as-rolled  421   \n",
       "1  ANSI  05982AC66F064F9EBC709E7A4164613A  Steel SAE 1015     normalized  424   \n",
       "2  ANSI  356D6E63FF9A49A3AB23BF66BAC85DC3  Steel SAE 1015       annealed  386   \n",
       "3  ANSI  1C758F8714AC4E0D9BD8D8AE1625AECD  Steel SAE 1020      as-rolled  448   \n",
       "4  ANSI  DCE10036FC1946FC8C9108D598D116AD  Steel SAE 1020     normalized  441   \n",
       "\n",
       "    Sy    A5    Bhn       E      G   mu    Ro     pH Desc  HV  \n",
       "0  314  39.0  126.0  207000  79000  0.3  7860    NaN  NaN NaN  \n",
       "1  324  37.0  121.0  207000  79000  0.3  7860    NaN  NaN NaN  \n",
       "2  284  37.0  111.0  207000  79000  0.3  7860    NaN  NaN NaN  \n",
       "3  331  36.0  143.0  207000  79000  0.3  7860    NaN  NaN NaN  \n",
       "4  346  35.8  131.0  207000  79000  0.3  7860  550.0  NaN NaN  "
      ],
      "text/html": [
       "<div>\n",
       "<style scoped>\n",
       "    .dataframe tbody tr th:only-of-type {\n",
       "        vertical-align: middle;\n",
       "    }\n",
       "\n",
       "    .dataframe tbody tr th {\n",
       "        vertical-align: top;\n",
       "    }\n",
       "\n",
       "    .dataframe thead th {\n",
       "        text-align: right;\n",
       "    }\n",
       "</style>\n",
       "<table border=\"1\" class=\"dataframe\">\n",
       "  <thead>\n",
       "    <tr style=\"text-align: right;\">\n",
       "      <th></th>\n",
       "      <th>Std</th>\n",
       "      <th>ID</th>\n",
       "      <th>Material</th>\n",
       "      <th>Heat treatment</th>\n",
       "      <th>Su</th>\n",
       "      <th>Sy</th>\n",
       "      <th>A5</th>\n",
       "      <th>Bhn</th>\n",
       "      <th>E</th>\n",
       "      <th>G</th>\n",
       "      <th>mu</th>\n",
       "      <th>Ro</th>\n",
       "      <th>pH</th>\n",
       "      <th>Desc</th>\n",
       "      <th>HV</th>\n",
       "    </tr>\n",
       "  </thead>\n",
       "  <tbody>\n",
       "    <tr>\n",
       "      <th>0</th>\n",
       "      <td>ANSI</td>\n",
       "      <td>D8894772B88F495093C43AF905AB6373</td>\n",
       "      <td>Steel SAE 1015</td>\n",
       "      <td>as-rolled</td>\n",
       "      <td>421</td>\n",
       "      <td>314</td>\n",
       "      <td>39.0</td>\n",
       "      <td>126.0</td>\n",
       "      <td>207000</td>\n",
       "      <td>79000</td>\n",
       "      <td>0.3</td>\n",
       "      <td>7860</td>\n",
       "      <td>NaN</td>\n",
       "      <td>NaN</td>\n",
       "      <td>NaN</td>\n",
       "    </tr>\n",
       "    <tr>\n",
       "      <th>1</th>\n",
       "      <td>ANSI</td>\n",
       "      <td>05982AC66F064F9EBC709E7A4164613A</td>\n",
       "      <td>Steel SAE 1015</td>\n",
       "      <td>normalized</td>\n",
       "      <td>424</td>\n",
       "      <td>324</td>\n",
       "      <td>37.0</td>\n",
       "      <td>121.0</td>\n",
       "      <td>207000</td>\n",
       "      <td>79000</td>\n",
       "      <td>0.3</td>\n",
       "      <td>7860</td>\n",
       "      <td>NaN</td>\n",
       "      <td>NaN</td>\n",
       "      <td>NaN</td>\n",
       "    </tr>\n",
       "    <tr>\n",
       "      <th>2</th>\n",
       "      <td>ANSI</td>\n",
       "      <td>356D6E63FF9A49A3AB23BF66BAC85DC3</td>\n",
       "      <td>Steel SAE 1015</td>\n",
       "      <td>annealed</td>\n",
       "      <td>386</td>\n",
       "      <td>284</td>\n",
       "      <td>37.0</td>\n",
       "      <td>111.0</td>\n",
       "      <td>207000</td>\n",
       "      <td>79000</td>\n",
       "      <td>0.3</td>\n",
       "      <td>7860</td>\n",
       "      <td>NaN</td>\n",
       "      <td>NaN</td>\n",
       "      <td>NaN</td>\n",
       "    </tr>\n",
       "    <tr>\n",
       "      <th>3</th>\n",
       "      <td>ANSI</td>\n",
       "      <td>1C758F8714AC4E0D9BD8D8AE1625AECD</td>\n",
       "      <td>Steel SAE 1020</td>\n",
       "      <td>as-rolled</td>\n",
       "      <td>448</td>\n",
       "      <td>331</td>\n",
       "      <td>36.0</td>\n",
       "      <td>143.0</td>\n",
       "      <td>207000</td>\n",
       "      <td>79000</td>\n",
       "      <td>0.3</td>\n",
       "      <td>7860</td>\n",
       "      <td>NaN</td>\n",
       "      <td>NaN</td>\n",
       "      <td>NaN</td>\n",
       "    </tr>\n",
       "    <tr>\n",
       "      <th>4</th>\n",
       "      <td>ANSI</td>\n",
       "      <td>DCE10036FC1946FC8C9108D598D116AD</td>\n",
       "      <td>Steel SAE 1020</td>\n",
       "      <td>normalized</td>\n",
       "      <td>441</td>\n",
       "      <td>346</td>\n",
       "      <td>35.8</td>\n",
       "      <td>131.0</td>\n",
       "      <td>207000</td>\n",
       "      <td>79000</td>\n",
       "      <td>0.3</td>\n",
       "      <td>7860</td>\n",
       "      <td>550.0</td>\n",
       "      <td>NaN</td>\n",
       "      <td>NaN</td>\n",
       "    </tr>\n",
       "  </tbody>\n",
       "</table>\n",
       "</div>"
      ]
     },
     "execution_count": 123,
     "metadata": {},
     "output_type": "execute_result"
    }
   ],
   "execution_count": 123
  },
  {
   "metadata": {
    "ExecuteTime": {
     "end_time": "2025-05-04T19:13:06.020259Z",
     "start_time": "2025-05-04T19:13:06.016619Z"
    }
   },
   "cell_type": "code",
   "source": "numeric_columns = df.select_dtypes(include=[np.number]).columns",
   "id": "52e7b46eff04dfc9",
   "outputs": [],
   "execution_count": 124
  },
  {
   "metadata": {
    "ExecuteTime": {
     "end_time": "2025-05-04T19:13:06.508839Z",
     "start_time": "2025-05-04T19:13:06.503738Z"
    }
   },
   "cell_type": "code",
   "source": "df[numeric_columns] = df[numeric_columns].apply(pd.to_numeric, errors='coerce')",
   "id": "f03d4faa6c79b061",
   "outputs": [],
   "execution_count": 125
  },
  {
   "metadata": {
    "ExecuteTime": {
     "end_time": "2025-05-04T19:13:47.389715Z",
     "start_time": "2025-05-04T19:13:47.384162Z"
    }
   },
   "cell_type": "code",
   "source": "df[numeric_columns] = df[numeric_columns].sub(df[numeric_columns].mean())",
   "id": "cdbada6903eec1c7",
   "outputs": [],
   "execution_count": 127
  },
  {
   "metadata": {
    "ExecuteTime": {
     "end_time": "2025-05-04T19:13:48.208791Z",
     "start_time": "2025-05-04T19:13:48.201856Z"
    }
   },
   "cell_type": "code",
   "source": "df[numeric_columns].head(5)",
   "id": "c702a4722e44a8c1",
   "outputs": [
    {
     "data": {
      "text/plain": [
       "           Su         A5        Bhn             E            G        mu  \\\n",
       "0 -151.753222  19.670579 -51.138229  42428.479381 -6598.840206 -0.002977   \n",
       "1 -148.753222  17.670579 -56.138229  42428.479381 -6598.840206 -0.002977   \n",
       "2 -186.753222  17.670579 -66.138229  42428.479381 -6598.840206 -0.002977   \n",
       "3 -124.753222  16.670579 -34.138229  42428.479381 -6598.840206 -0.002977   \n",
       "4 -131.753222  16.470579 -46.138229  42428.479381 -6598.840206 -0.002977   \n",
       "\n",
       "           Ro         pH  HV  \n",
       "0  930.156572        NaN NaN  \n",
       "1  930.156572        NaN NaN  \n",
       "2  930.156572        NaN NaN  \n",
       "3  930.156572        NaN NaN  \n",
       "4  930.156572 -77.393782 NaN  "
      ],
      "text/html": [
       "<div>\n",
       "<style scoped>\n",
       "    .dataframe tbody tr th:only-of-type {\n",
       "        vertical-align: middle;\n",
       "    }\n",
       "\n",
       "    .dataframe tbody tr th {\n",
       "        vertical-align: top;\n",
       "    }\n",
       "\n",
       "    .dataframe thead th {\n",
       "        text-align: right;\n",
       "    }\n",
       "</style>\n",
       "<table border=\"1\" class=\"dataframe\">\n",
       "  <thead>\n",
       "    <tr style=\"text-align: right;\">\n",
       "      <th></th>\n",
       "      <th>Su</th>\n",
       "      <th>A5</th>\n",
       "      <th>Bhn</th>\n",
       "      <th>E</th>\n",
       "      <th>G</th>\n",
       "      <th>mu</th>\n",
       "      <th>Ro</th>\n",
       "      <th>pH</th>\n",
       "      <th>HV</th>\n",
       "    </tr>\n",
       "  </thead>\n",
       "  <tbody>\n",
       "    <tr>\n",
       "      <th>0</th>\n",
       "      <td>-151.753222</td>\n",
       "      <td>19.670579</td>\n",
       "      <td>-51.138229</td>\n",
       "      <td>42428.479381</td>\n",
       "      <td>-6598.840206</td>\n",
       "      <td>-0.002977</td>\n",
       "      <td>930.156572</td>\n",
       "      <td>NaN</td>\n",
       "      <td>NaN</td>\n",
       "    </tr>\n",
       "    <tr>\n",
       "      <th>1</th>\n",
       "      <td>-148.753222</td>\n",
       "      <td>17.670579</td>\n",
       "      <td>-56.138229</td>\n",
       "      <td>42428.479381</td>\n",
       "      <td>-6598.840206</td>\n",
       "      <td>-0.002977</td>\n",
       "      <td>930.156572</td>\n",
       "      <td>NaN</td>\n",
       "      <td>NaN</td>\n",
       "    </tr>\n",
       "    <tr>\n",
       "      <th>2</th>\n",
       "      <td>-186.753222</td>\n",
       "      <td>17.670579</td>\n",
       "      <td>-66.138229</td>\n",
       "      <td>42428.479381</td>\n",
       "      <td>-6598.840206</td>\n",
       "      <td>-0.002977</td>\n",
       "      <td>930.156572</td>\n",
       "      <td>NaN</td>\n",
       "      <td>NaN</td>\n",
       "    </tr>\n",
       "    <tr>\n",
       "      <th>3</th>\n",
       "      <td>-124.753222</td>\n",
       "      <td>16.670579</td>\n",
       "      <td>-34.138229</td>\n",
       "      <td>42428.479381</td>\n",
       "      <td>-6598.840206</td>\n",
       "      <td>-0.002977</td>\n",
       "      <td>930.156572</td>\n",
       "      <td>NaN</td>\n",
       "      <td>NaN</td>\n",
       "    </tr>\n",
       "    <tr>\n",
       "      <th>4</th>\n",
       "      <td>-131.753222</td>\n",
       "      <td>16.470579</td>\n",
       "      <td>-46.138229</td>\n",
       "      <td>42428.479381</td>\n",
       "      <td>-6598.840206</td>\n",
       "      <td>-0.002977</td>\n",
       "      <td>930.156572</td>\n",
       "      <td>-77.393782</td>\n",
       "      <td>NaN</td>\n",
       "    </tr>\n",
       "  </tbody>\n",
       "</table>\n",
       "</div>"
      ]
     },
     "execution_count": 128,
     "metadata": {},
     "output_type": "execute_result"
    }
   ],
   "execution_count": 128
  },
  {
   "metadata": {
    "ExecuteTime": {
     "end_time": "2025-05-04T19:15:19.902596Z",
     "start_time": "2025-05-04T19:15:19.897352Z"
    }
   },
   "cell_type": "code",
   "source": "df[numeric_columns].mean()",
   "id": "4d365fc7f2caefc1",
   "outputs": [
    {
     "data": {
      "text/plain": [
       "Su    -2.812870e-14\n",
       "A5    -1.182478e-15\n",
       "Bhn   -1.767916e-14\n",
       "E     -1.200158e-11\n",
       "G     -2.400316e-12\n",
       "mu     2.861400e-17\n",
       "Ro     1.500197e-13\n",
       "pH     4.241167e-14\n",
       "HV    -1.378022e-14\n",
       "dtype: float64"
      ]
     },
     "execution_count": 129,
     "metadata": {},
     "output_type": "execute_result"
    }
   ],
   "execution_count": 129
  },
  {
   "metadata": {},
   "cell_type": "markdown",
   "source": [
    "2. **Column-wise Standardization**\n",
    "   Compute z-scores (value minus mean divided by std deviation) for all numeric columns."
   ],
   "id": "9173b5d5743801d4"
  },
  {
   "metadata": {
    "ExecuteTime": {
     "end_time": "2025-05-04T19:16:16.224220Z",
     "start_time": "2025-05-04T19:16:16.221832Z"
    }
   },
   "cell_type": "code",
   "source": "df = pd.DataFrame(data)",
   "id": "79919484ab88f205",
   "outputs": [],
   "execution_count": 130
  },
  {
   "metadata": {
    "ExecuteTime": {
     "end_time": "2025-05-04T19:16:51.618052Z",
     "start_time": "2025-05-04T19:16:51.615016Z"
    }
   },
   "cell_type": "code",
   "source": "numeric_columns = df.select_dtypes(include=[np.number]).columns",
   "id": "ec0e8a1966fb5a1a",
   "outputs": [],
   "execution_count": 131
  },
  {
   "metadata": {
    "ExecuteTime": {
     "end_time": "2025-05-04T19:17:05.888695Z",
     "start_time": "2025-05-04T19:17:05.884260Z"
    }
   },
   "cell_type": "code",
   "source": "df[numeric_columns] = df[numeric_columns].apply(pd.to_numeric, errors='coerce')",
   "id": "dc7144ccc969cea",
   "outputs": [],
   "execution_count": 132
  },
  {
   "metadata": {
    "ExecuteTime": {
     "end_time": "2025-05-04T19:19:26.904797Z",
     "start_time": "2025-05-04T19:19:26.899163Z"
    }
   },
   "cell_type": "code",
   "source": "df[numeric_columns] = (df[numeric_columns].sub(df[numeric_columns].mean())) / df[numeric_columns].std()",
   "id": "39ee6275fce578f5",
   "outputs": [],
   "execution_count": 138
  },
  {
   "metadata": {
    "ExecuteTime": {
     "end_time": "2025-05-04T19:19:27.314276Z",
     "start_time": "2025-05-04T19:19:27.307851Z"
    }
   },
   "cell_type": "code",
   "source": "df[numeric_columns].head(5)",
   "id": "fb26326dfeb846da",
   "outputs": [
    {
     "data": {
      "text/plain": [
       "         Su        A5       Bhn         E         G        mu        Ro  \\\n",
       "0 -0.913606  1.516281 -1.125982  0.726915 -0.345700 -0.309830  0.290015   \n",
       "1 -0.865193  1.370123 -1.150131  0.766117 -0.312298 -0.285613  0.330031   \n",
       "2 -0.978629  1.402202 -1.238661  0.807018 -0.277448 -0.260347  0.371781   \n",
       "3 -0.804283  1.252359 -0.898928  0.728741 -0.344144 -0.308701  0.291880   \n",
       "4 -0.735727  1.316019 -0.946541  0.832467 -0.255764 -0.244626  0.397759   \n",
       "\n",
       "         pH  HV  \n",
       "0       NaN NaN  \n",
       "1       NaN NaN  \n",
       "2       NaN NaN  \n",
       "3       NaN NaN  \n",
       "4 -0.902907 NaN  "
      ],
      "text/html": [
       "<div>\n",
       "<style scoped>\n",
       "    .dataframe tbody tr th:only-of-type {\n",
       "        vertical-align: middle;\n",
       "    }\n",
       "\n",
       "    .dataframe tbody tr th {\n",
       "        vertical-align: top;\n",
       "    }\n",
       "\n",
       "    .dataframe thead th {\n",
       "        text-align: right;\n",
       "    }\n",
       "</style>\n",
       "<table border=\"1\" class=\"dataframe\">\n",
       "  <thead>\n",
       "    <tr style=\"text-align: right;\">\n",
       "      <th></th>\n",
       "      <th>Su</th>\n",
       "      <th>A5</th>\n",
       "      <th>Bhn</th>\n",
       "      <th>E</th>\n",
       "      <th>G</th>\n",
       "      <th>mu</th>\n",
       "      <th>Ro</th>\n",
       "      <th>pH</th>\n",
       "      <th>HV</th>\n",
       "    </tr>\n",
       "  </thead>\n",
       "  <tbody>\n",
       "    <tr>\n",
       "      <th>0</th>\n",
       "      <td>-0.913606</td>\n",
       "      <td>1.516281</td>\n",
       "      <td>-1.125982</td>\n",
       "      <td>0.726915</td>\n",
       "      <td>-0.345700</td>\n",
       "      <td>-0.309830</td>\n",
       "      <td>0.290015</td>\n",
       "      <td>NaN</td>\n",
       "      <td>NaN</td>\n",
       "    </tr>\n",
       "    <tr>\n",
       "      <th>1</th>\n",
       "      <td>-0.865193</td>\n",
       "      <td>1.370123</td>\n",
       "      <td>-1.150131</td>\n",
       "      <td>0.766117</td>\n",
       "      <td>-0.312298</td>\n",
       "      <td>-0.285613</td>\n",
       "      <td>0.330031</td>\n",
       "      <td>NaN</td>\n",
       "      <td>NaN</td>\n",
       "    </tr>\n",
       "    <tr>\n",
       "      <th>2</th>\n",
       "      <td>-0.978629</td>\n",
       "      <td>1.402202</td>\n",
       "      <td>-1.238661</td>\n",
       "      <td>0.807018</td>\n",
       "      <td>-0.277448</td>\n",
       "      <td>-0.260347</td>\n",
       "      <td>0.371781</td>\n",
       "      <td>NaN</td>\n",
       "      <td>NaN</td>\n",
       "    </tr>\n",
       "    <tr>\n",
       "      <th>3</th>\n",
       "      <td>-0.804283</td>\n",
       "      <td>1.252359</td>\n",
       "      <td>-0.898928</td>\n",
       "      <td>0.728741</td>\n",
       "      <td>-0.344144</td>\n",
       "      <td>-0.308701</td>\n",
       "      <td>0.291880</td>\n",
       "      <td>NaN</td>\n",
       "      <td>NaN</td>\n",
       "    </tr>\n",
       "    <tr>\n",
       "      <th>4</th>\n",
       "      <td>-0.735727</td>\n",
       "      <td>1.316019</td>\n",
       "      <td>-0.946541</td>\n",
       "      <td>0.832467</td>\n",
       "      <td>-0.255764</td>\n",
       "      <td>-0.244626</td>\n",
       "      <td>0.397759</td>\n",
       "      <td>-0.902907</td>\n",
       "      <td>NaN</td>\n",
       "    </tr>\n",
       "  </tbody>\n",
       "</table>\n",
       "</div>"
      ]
     },
     "execution_count": 139,
     "metadata": {},
     "output_type": "execute_result"
    }
   ],
   "execution_count": 139
  },
  {
   "metadata": {},
   "cell_type": "markdown",
   "source": [
    "3. **Element-wise Division with Alignment**\n",
    "   Divide column `E` by `G` using `df['E'].div(df['G'])`, and name the result `E_div_G`."
   ],
   "id": "1d29be07f508984a"
  },
  {
   "metadata": {
    "ExecuteTime": {
     "end_time": "2025-05-04T19:21:10.732407Z",
     "start_time": "2025-05-04T19:21:10.729568Z"
    }
   },
   "cell_type": "code",
   "source": "df = pd.DataFrame(data)",
   "id": "6c5ad39485a78220",
   "outputs": [],
   "execution_count": 140
  },
  {
   "metadata": {
    "ExecuteTime": {
     "end_time": "2025-05-04T19:39:01.464684Z",
     "start_time": "2025-05-04T19:39:01.458087Z"
    }
   },
   "cell_type": "code",
   "source": "df.head(3)",
   "id": "2d5396c608c686eb",
   "outputs": [
    {
     "data": {
      "text/plain": [
       "    Std                                ID        Material Heat treatment   Su  \\\n",
       "0  ANSI  D8894772B88F495093C43AF905AB6373  Steel SAE 1015      as-rolled  421   \n",
       "1  ANSI  05982AC66F064F9EBC709E7A4164613A  Steel SAE 1015     normalized  424   \n",
       "2  ANSI  356D6E63FF9A49A3AB23BF66BAC85DC3  Steel SAE 1015       annealed  386   \n",
       "\n",
       "    Sy    A5    Bhn       E      G   mu    Ro  pH Desc  HV  \n",
       "0  314  39.0  126.0  207000  79000  0.3  7860 NaN  NaN NaN  \n",
       "1  324  37.0  121.0  207000  79000  0.3  7860 NaN  NaN NaN  \n",
       "2  284  37.0  111.0  207000  79000  0.3  7860 NaN  NaN NaN  "
      ],
      "text/html": [
       "<div>\n",
       "<style scoped>\n",
       "    .dataframe tbody tr th:only-of-type {\n",
       "        vertical-align: middle;\n",
       "    }\n",
       "\n",
       "    .dataframe tbody tr th {\n",
       "        vertical-align: top;\n",
       "    }\n",
       "\n",
       "    .dataframe thead th {\n",
       "        text-align: right;\n",
       "    }\n",
       "</style>\n",
       "<table border=\"1\" class=\"dataframe\">\n",
       "  <thead>\n",
       "    <tr style=\"text-align: right;\">\n",
       "      <th></th>\n",
       "      <th>Std</th>\n",
       "      <th>ID</th>\n",
       "      <th>Material</th>\n",
       "      <th>Heat treatment</th>\n",
       "      <th>Su</th>\n",
       "      <th>Sy</th>\n",
       "      <th>A5</th>\n",
       "      <th>Bhn</th>\n",
       "      <th>E</th>\n",
       "      <th>G</th>\n",
       "      <th>mu</th>\n",
       "      <th>Ro</th>\n",
       "      <th>pH</th>\n",
       "      <th>Desc</th>\n",
       "      <th>HV</th>\n",
       "    </tr>\n",
       "  </thead>\n",
       "  <tbody>\n",
       "    <tr>\n",
       "      <th>0</th>\n",
       "      <td>ANSI</td>\n",
       "      <td>D8894772B88F495093C43AF905AB6373</td>\n",
       "      <td>Steel SAE 1015</td>\n",
       "      <td>as-rolled</td>\n",
       "      <td>421</td>\n",
       "      <td>314</td>\n",
       "      <td>39.0</td>\n",
       "      <td>126.0</td>\n",
       "      <td>207000</td>\n",
       "      <td>79000</td>\n",
       "      <td>0.3</td>\n",
       "      <td>7860</td>\n",
       "      <td>NaN</td>\n",
       "      <td>NaN</td>\n",
       "      <td>NaN</td>\n",
       "    </tr>\n",
       "    <tr>\n",
       "      <th>1</th>\n",
       "      <td>ANSI</td>\n",
       "      <td>05982AC66F064F9EBC709E7A4164613A</td>\n",
       "      <td>Steel SAE 1015</td>\n",
       "      <td>normalized</td>\n",
       "      <td>424</td>\n",
       "      <td>324</td>\n",
       "      <td>37.0</td>\n",
       "      <td>121.0</td>\n",
       "      <td>207000</td>\n",
       "      <td>79000</td>\n",
       "      <td>0.3</td>\n",
       "      <td>7860</td>\n",
       "      <td>NaN</td>\n",
       "      <td>NaN</td>\n",
       "      <td>NaN</td>\n",
       "    </tr>\n",
       "    <tr>\n",
       "      <th>2</th>\n",
       "      <td>ANSI</td>\n",
       "      <td>356D6E63FF9A49A3AB23BF66BAC85DC3</td>\n",
       "      <td>Steel SAE 1015</td>\n",
       "      <td>annealed</td>\n",
       "      <td>386</td>\n",
       "      <td>284</td>\n",
       "      <td>37.0</td>\n",
       "      <td>111.0</td>\n",
       "      <td>207000</td>\n",
       "      <td>79000</td>\n",
       "      <td>0.3</td>\n",
       "      <td>7860</td>\n",
       "      <td>NaN</td>\n",
       "      <td>NaN</td>\n",
       "      <td>NaN</td>\n",
       "    </tr>\n",
       "  </tbody>\n",
       "</table>\n",
       "</div>"
      ]
     },
     "execution_count": 157,
     "metadata": {},
     "output_type": "execute_result"
    }
   ],
   "execution_count": 157
  },
  {
   "metadata": {
    "ExecuteTime": {
     "end_time": "2025-05-04T19:39:13.502166Z",
     "start_time": "2025-05-04T19:39:13.494837Z"
    }
   },
   "cell_type": "code",
   "source": "df.tail(3)",
   "id": "aa75c231e7fdc5eb",
   "outputs": [
    {
     "data": {
      "text/plain": [
       "      Std                                ID             Material  \\\n",
       "1549  JIS  CAC03D7EB1AA45E68EFF92A2EF4C3D9B    Nodular cast iron   \n",
       "1550  JIS  45C82A36EC644F8BB6170A99ED819B62  Malleable cast iron   \n",
       "1551  JIS  BC74F870412F4DDBADDEF1063C1C079F  Malleable cast iron   \n",
       "\n",
       "     Heat treatment   Su   Sy   A5  Bhn       E      G    mu    Ro     pH  \\\n",
       "1549            NaN  800  480  NaN  NaN  169000  70000  0.20  7160  600.0   \n",
       "1550            NaN  400  180  4.0  NaN  160000  64000  0.27  7160  300.0   \n",
       "1551            NaN  500  260  4.0  NaN  160000  64000  0.27  7160  370.0   \n",
       "\n",
       "                     Desc     HV  \n",
       "1549    Nodular cast iron  240.0  \n",
       "1550  Malleable cast iron  220.0  \n",
       "1551  Malleable cast iron  230.0  "
      ],
      "text/html": [
       "<div>\n",
       "<style scoped>\n",
       "    .dataframe tbody tr th:only-of-type {\n",
       "        vertical-align: middle;\n",
       "    }\n",
       "\n",
       "    .dataframe tbody tr th {\n",
       "        vertical-align: top;\n",
       "    }\n",
       "\n",
       "    .dataframe thead th {\n",
       "        text-align: right;\n",
       "    }\n",
       "</style>\n",
       "<table border=\"1\" class=\"dataframe\">\n",
       "  <thead>\n",
       "    <tr style=\"text-align: right;\">\n",
       "      <th></th>\n",
       "      <th>Std</th>\n",
       "      <th>ID</th>\n",
       "      <th>Material</th>\n",
       "      <th>Heat treatment</th>\n",
       "      <th>Su</th>\n",
       "      <th>Sy</th>\n",
       "      <th>A5</th>\n",
       "      <th>Bhn</th>\n",
       "      <th>E</th>\n",
       "      <th>G</th>\n",
       "      <th>mu</th>\n",
       "      <th>Ro</th>\n",
       "      <th>pH</th>\n",
       "      <th>Desc</th>\n",
       "      <th>HV</th>\n",
       "    </tr>\n",
       "  </thead>\n",
       "  <tbody>\n",
       "    <tr>\n",
       "      <th>1549</th>\n",
       "      <td>JIS</td>\n",
       "      <td>CAC03D7EB1AA45E68EFF92A2EF4C3D9B</td>\n",
       "      <td>Nodular cast iron</td>\n",
       "      <td>NaN</td>\n",
       "      <td>800</td>\n",
       "      <td>480</td>\n",
       "      <td>NaN</td>\n",
       "      <td>NaN</td>\n",
       "      <td>169000</td>\n",
       "      <td>70000</td>\n",
       "      <td>0.20</td>\n",
       "      <td>7160</td>\n",
       "      <td>600.0</td>\n",
       "      <td>Nodular cast iron</td>\n",
       "      <td>240.0</td>\n",
       "    </tr>\n",
       "    <tr>\n",
       "      <th>1550</th>\n",
       "      <td>JIS</td>\n",
       "      <td>45C82A36EC644F8BB6170A99ED819B62</td>\n",
       "      <td>Malleable cast iron</td>\n",
       "      <td>NaN</td>\n",
       "      <td>400</td>\n",
       "      <td>180</td>\n",
       "      <td>4.0</td>\n",
       "      <td>NaN</td>\n",
       "      <td>160000</td>\n",
       "      <td>64000</td>\n",
       "      <td>0.27</td>\n",
       "      <td>7160</td>\n",
       "      <td>300.0</td>\n",
       "      <td>Malleable cast iron</td>\n",
       "      <td>220.0</td>\n",
       "    </tr>\n",
       "    <tr>\n",
       "      <th>1551</th>\n",
       "      <td>JIS</td>\n",
       "      <td>BC74F870412F4DDBADDEF1063C1C079F</td>\n",
       "      <td>Malleable cast iron</td>\n",
       "      <td>NaN</td>\n",
       "      <td>500</td>\n",
       "      <td>260</td>\n",
       "      <td>4.0</td>\n",
       "      <td>NaN</td>\n",
       "      <td>160000</td>\n",
       "      <td>64000</td>\n",
       "      <td>0.27</td>\n",
       "      <td>7160</td>\n",
       "      <td>370.0</td>\n",
       "      <td>Malleable cast iron</td>\n",
       "      <td>230.0</td>\n",
       "    </tr>\n",
       "  </tbody>\n",
       "</table>\n",
       "</div>"
      ]
     },
     "execution_count": 158,
     "metadata": {},
     "output_type": "execute_result"
    }
   ],
   "execution_count": 158
  },
  {
   "metadata": {
    "ExecuteTime": {
     "end_time": "2025-05-04T19:21:36.192529Z",
     "start_time": "2025-05-04T19:21:36.188527Z"
    }
   },
   "cell_type": "code",
   "source": "df[['E', 'G']] = df[['E', 'G']].apply(pd.to_numeric, errors='coerce')",
   "id": "c109f1a648eb492c",
   "outputs": [],
   "execution_count": 141
  },
  {
   "metadata": {
    "ExecuteTime": {
     "end_time": "2025-05-04T19:22:05.187386Z",
     "start_time": "2025-05-04T19:22:05.183954Z"
    }
   },
   "cell_type": "code",
   "source": "df['E_div_G'] = df['E'].div(df['G'], fill_value=0)",
   "id": "c946bff18972da2",
   "outputs": [],
   "execution_count": 142
  },
  {
   "metadata": {
    "ExecuteTime": {
     "end_time": "2025-05-04T19:22:35.984188Z",
     "start_time": "2025-05-04T19:22:35.977063Z"
    }
   },
   "cell_type": "code",
   "source": "df[['Material', 'E', 'G', 'E_div_G']].head(5)",
   "id": "67fc4eea405d745a",
   "outputs": [
    {
     "data": {
      "text/plain": [
       "         Material       E      G   E_div_G\n",
       "0  Steel SAE 1015  207000  79000  2.620253\n",
       "1  Steel SAE 1015  207000  79000  2.620253\n",
       "2  Steel SAE 1015  207000  79000  2.620253\n",
       "3  Steel SAE 1020  207000  79000  2.620253\n",
       "4  Steel SAE 1020  207000  79000  2.620253"
      ],
      "text/html": [
       "<div>\n",
       "<style scoped>\n",
       "    .dataframe tbody tr th:only-of-type {\n",
       "        vertical-align: middle;\n",
       "    }\n",
       "\n",
       "    .dataframe tbody tr th {\n",
       "        vertical-align: top;\n",
       "    }\n",
       "\n",
       "    .dataframe thead th {\n",
       "        text-align: right;\n",
       "    }\n",
       "</style>\n",
       "<table border=\"1\" class=\"dataframe\">\n",
       "  <thead>\n",
       "    <tr style=\"text-align: right;\">\n",
       "      <th></th>\n",
       "      <th>Material</th>\n",
       "      <th>E</th>\n",
       "      <th>G</th>\n",
       "      <th>E_div_G</th>\n",
       "    </tr>\n",
       "  </thead>\n",
       "  <tbody>\n",
       "    <tr>\n",
       "      <th>0</th>\n",
       "      <td>Steel SAE 1015</td>\n",
       "      <td>207000</td>\n",
       "      <td>79000</td>\n",
       "      <td>2.620253</td>\n",
       "    </tr>\n",
       "    <tr>\n",
       "      <th>1</th>\n",
       "      <td>Steel SAE 1015</td>\n",
       "      <td>207000</td>\n",
       "      <td>79000</td>\n",
       "      <td>2.620253</td>\n",
       "    </tr>\n",
       "    <tr>\n",
       "      <th>2</th>\n",
       "      <td>Steel SAE 1015</td>\n",
       "      <td>207000</td>\n",
       "      <td>79000</td>\n",
       "      <td>2.620253</td>\n",
       "    </tr>\n",
       "    <tr>\n",
       "      <th>3</th>\n",
       "      <td>Steel SAE 1020</td>\n",
       "      <td>207000</td>\n",
       "      <td>79000</td>\n",
       "      <td>2.620253</td>\n",
       "    </tr>\n",
       "    <tr>\n",
       "      <th>4</th>\n",
       "      <td>Steel SAE 1020</td>\n",
       "      <td>207000</td>\n",
       "      <td>79000</td>\n",
       "      <td>2.620253</td>\n",
       "    </tr>\n",
       "  </tbody>\n",
       "</table>\n",
       "</div>"
      ]
     },
     "execution_count": 143,
     "metadata": {},
     "output_type": "execute_result"
    }
   ],
   "execution_count": 143
  },
  {
   "metadata": {},
   "cell_type": "markdown",
   "source": [
    "4. **Add Two Series with Mismatched Index**\n",
    "   Create two Series with offset indexes and add them using alignment. Fill missing values with 0."
   ],
   "id": "de74373118a32670"
  },
  {
   "metadata": {
    "ExecuteTime": {
     "end_time": "2025-05-04T19:25:02.705696Z",
     "start_time": "2025-05-04T19:25:02.702609Z"
    }
   },
   "cell_type": "code",
   "source": "df = pd.DataFrame(data) ",
   "id": "c6038e17d6e62471",
   "outputs": [],
   "execution_count": 144
  },
  {
   "metadata": {
    "ExecuteTime": {
     "end_time": "2025-05-04T19:25:52.834612Z",
     "start_time": "2025-05-04T19:25:52.830937Z"
    }
   },
   "cell_type": "code",
   "source": "df[['Ro', 'pH']] = df[['Ro', 'pH']].apply(pd.to_numeric, errors='coerce')",
   "id": "1bad19ff4bce8ef2",
   "outputs": [],
   "execution_count": 146
  },
  {
   "metadata": {
    "ExecuteTime": {
     "end_time": "2025-05-04T19:28:17.338230Z",
     "start_time": "2025-05-04T19:28:17.335018Z"
    }
   },
   "cell_type": "code",
   "source": "df['Ro_plus_pH'] = df['Ro'].add(df['pH'], fill_value=0)",
   "id": "194f5c18ccb932c1",
   "outputs": [],
   "execution_count": 150
  },
  {
   "metadata": {
    "ExecuteTime": {
     "end_time": "2025-05-04T19:28:34.400475Z",
     "start_time": "2025-05-04T19:28:34.394682Z"
    }
   },
   "cell_type": "code",
   "source": "df[['Material', 'Ro', 'pH', 'Ro_plus_pH']].head(5)",
   "id": "c150559c9bff8c3c",
   "outputs": [
    {
     "data": {
      "text/plain": [
       "         Material    Ro     pH  Ro_plus_pH\n",
       "0  Steel SAE 1015  7860    NaN      7860.0\n",
       "1  Steel SAE 1015  7860    NaN      7860.0\n",
       "2  Steel SAE 1015  7860    NaN      7860.0\n",
       "3  Steel SAE 1020  7860    NaN      7860.0\n",
       "4  Steel SAE 1020  7860  550.0      8410.0"
      ],
      "text/html": [
       "<div>\n",
       "<style scoped>\n",
       "    .dataframe tbody tr th:only-of-type {\n",
       "        vertical-align: middle;\n",
       "    }\n",
       "\n",
       "    .dataframe tbody tr th {\n",
       "        vertical-align: top;\n",
       "    }\n",
       "\n",
       "    .dataframe thead th {\n",
       "        text-align: right;\n",
       "    }\n",
       "</style>\n",
       "<table border=\"1\" class=\"dataframe\">\n",
       "  <thead>\n",
       "    <tr style=\"text-align: right;\">\n",
       "      <th></th>\n",
       "      <th>Material</th>\n",
       "      <th>Ro</th>\n",
       "      <th>pH</th>\n",
       "      <th>Ro_plus_pH</th>\n",
       "    </tr>\n",
       "  </thead>\n",
       "  <tbody>\n",
       "    <tr>\n",
       "      <th>0</th>\n",
       "      <td>Steel SAE 1015</td>\n",
       "      <td>7860</td>\n",
       "      <td>NaN</td>\n",
       "      <td>7860.0</td>\n",
       "    </tr>\n",
       "    <tr>\n",
       "      <th>1</th>\n",
       "      <td>Steel SAE 1015</td>\n",
       "      <td>7860</td>\n",
       "      <td>NaN</td>\n",
       "      <td>7860.0</td>\n",
       "    </tr>\n",
       "    <tr>\n",
       "      <th>2</th>\n",
       "      <td>Steel SAE 1015</td>\n",
       "      <td>7860</td>\n",
       "      <td>NaN</td>\n",
       "      <td>7860.0</td>\n",
       "    </tr>\n",
       "    <tr>\n",
       "      <th>3</th>\n",
       "      <td>Steel SAE 1020</td>\n",
       "      <td>7860</td>\n",
       "      <td>NaN</td>\n",
       "      <td>7860.0</td>\n",
       "    </tr>\n",
       "    <tr>\n",
       "      <th>4</th>\n",
       "      <td>Steel SAE 1020</td>\n",
       "      <td>7860</td>\n",
       "      <td>550.0</td>\n",
       "      <td>8410.0</td>\n",
       "    </tr>\n",
       "  </tbody>\n",
       "</table>\n",
       "</div>"
      ]
     },
     "execution_count": 151,
     "metadata": {},
     "output_type": "execute_result"
    }
   ],
   "execution_count": 151
  },
  {
   "metadata": {},
   "cell_type": "markdown",
   "source": [
    "5. **Align and Subtract Rows**\n",
    "   Take the top 3 and bottom 3 rows of the numeric DataFrame. Align by column names and subtract one from the other."
   ],
   "id": "5a4e0adb82b50a6a"
  },
  {
   "metadata": {
    "ExecuteTime": {
     "end_time": "2025-05-04T19:33:56.678610Z",
     "start_time": "2025-05-04T19:33:56.675729Z"
    }
   },
   "cell_type": "code",
   "source": "df = pd.DataFrame(data)",
   "id": "fcd5e55d428fc2f1",
   "outputs": [],
   "execution_count": 152
  },
  {
   "metadata": {
    "ExecuteTime": {
     "end_time": "2025-05-04T19:36:09.815049Z",
     "start_time": "2025-05-04T19:36:09.812100Z"
    }
   },
   "cell_type": "code",
   "source": "numeric_columns = df.select_dtypes(include=[np.number]).columns",
   "id": "c6e872fc427c52c9",
   "outputs": [],
   "execution_count": 153
  },
  {
   "metadata": {
    "ExecuteTime": {
     "end_time": "2025-05-04T19:36:20.588822Z",
     "start_time": "2025-05-04T19:36:20.584346Z"
    }
   },
   "cell_type": "code",
   "source": "df[numeric_columns] = df[numeric_columns].apply(pd.to_numeric, errors='coerce')",
   "id": "1a69fe0ed34d2177",
   "outputs": [],
   "execution_count": 154
  },
  {
   "metadata": {
    "ExecuteTime": {
     "end_time": "2025-05-04T19:38:13.005049Z",
     "start_time": "2025-05-04T19:38:13.002149Z"
    }
   },
   "cell_type": "code",
   "source": "top_3_numeric_rows = df[numeric_columns][:3]",
   "id": "fcba6c57d7d84333",
   "outputs": [],
   "execution_count": 155
  },
  {
   "metadata": {
    "ExecuteTime": {
     "end_time": "2025-05-04T19:38:21.390821Z",
     "start_time": "2025-05-04T19:38:21.384544Z"
    }
   },
   "cell_type": "code",
   "source": "top_3_numeric_rows",
   "id": "f1da64592c33ecb5",
   "outputs": [
    {
     "data": {
      "text/plain": [
       "    Su    A5    Bhn       E      G   mu    Ro  pH  HV\n",
       "0  421  39.0  126.0  207000  79000  0.3  7860 NaN NaN\n",
       "1  424  37.0  121.0  207000  79000  0.3  7860 NaN NaN\n",
       "2  386  37.0  111.0  207000  79000  0.3  7860 NaN NaN"
      ],
      "text/html": [
       "<div>\n",
       "<style scoped>\n",
       "    .dataframe tbody tr th:only-of-type {\n",
       "        vertical-align: middle;\n",
       "    }\n",
       "\n",
       "    .dataframe tbody tr th {\n",
       "        vertical-align: top;\n",
       "    }\n",
       "\n",
       "    .dataframe thead th {\n",
       "        text-align: right;\n",
       "    }\n",
       "</style>\n",
       "<table border=\"1\" class=\"dataframe\">\n",
       "  <thead>\n",
       "    <tr style=\"text-align: right;\">\n",
       "      <th></th>\n",
       "      <th>Su</th>\n",
       "      <th>A5</th>\n",
       "      <th>Bhn</th>\n",
       "      <th>E</th>\n",
       "      <th>G</th>\n",
       "      <th>mu</th>\n",
       "      <th>Ro</th>\n",
       "      <th>pH</th>\n",
       "      <th>HV</th>\n",
       "    </tr>\n",
       "  </thead>\n",
       "  <tbody>\n",
       "    <tr>\n",
       "      <th>0</th>\n",
       "      <td>421</td>\n",
       "      <td>39.0</td>\n",
       "      <td>126.0</td>\n",
       "      <td>207000</td>\n",
       "      <td>79000</td>\n",
       "      <td>0.3</td>\n",
       "      <td>7860</td>\n",
       "      <td>NaN</td>\n",
       "      <td>NaN</td>\n",
       "    </tr>\n",
       "    <tr>\n",
       "      <th>1</th>\n",
       "      <td>424</td>\n",
       "      <td>37.0</td>\n",
       "      <td>121.0</td>\n",
       "      <td>207000</td>\n",
       "      <td>79000</td>\n",
       "      <td>0.3</td>\n",
       "      <td>7860</td>\n",
       "      <td>NaN</td>\n",
       "      <td>NaN</td>\n",
       "    </tr>\n",
       "    <tr>\n",
       "      <th>2</th>\n",
       "      <td>386</td>\n",
       "      <td>37.0</td>\n",
       "      <td>111.0</td>\n",
       "      <td>207000</td>\n",
       "      <td>79000</td>\n",
       "      <td>0.3</td>\n",
       "      <td>7860</td>\n",
       "      <td>NaN</td>\n",
       "      <td>NaN</td>\n",
       "    </tr>\n",
       "  </tbody>\n",
       "</table>\n",
       "</div>"
      ]
     },
     "execution_count": 156,
     "metadata": {},
     "output_type": "execute_result"
    }
   ],
   "execution_count": 156
  },
  {
   "metadata": {
    "ExecuteTime": {
     "end_time": "2025-05-04T19:39:55.815773Z",
     "start_time": "2025-05-04T19:39:55.812124Z"
    }
   },
   "cell_type": "code",
   "source": "bottom_3_numeric_rows = df[numeric_columns][-3:]",
   "id": "befbc05a2c82e778",
   "outputs": [],
   "execution_count": 161
  },
  {
   "metadata": {
    "ExecuteTime": {
     "end_time": "2025-05-04T19:39:56.636946Z",
     "start_time": "2025-05-04T19:39:56.630824Z"
    }
   },
   "cell_type": "code",
   "source": "bottom_3_numeric_rows",
   "id": "a25753a9d7cdabf6",
   "outputs": [
    {
     "data": {
      "text/plain": [
       "       Su   A5  Bhn       E      G    mu    Ro     pH     HV\n",
       "1549  800  NaN  NaN  169000  70000  0.20  7160  600.0  240.0\n",
       "1550  400  4.0  NaN  160000  64000  0.27  7160  300.0  220.0\n",
       "1551  500  4.0  NaN  160000  64000  0.27  7160  370.0  230.0"
      ],
      "text/html": [
       "<div>\n",
       "<style scoped>\n",
       "    .dataframe tbody tr th:only-of-type {\n",
       "        vertical-align: middle;\n",
       "    }\n",
       "\n",
       "    .dataframe tbody tr th {\n",
       "        vertical-align: top;\n",
       "    }\n",
       "\n",
       "    .dataframe thead th {\n",
       "        text-align: right;\n",
       "    }\n",
       "</style>\n",
       "<table border=\"1\" class=\"dataframe\">\n",
       "  <thead>\n",
       "    <tr style=\"text-align: right;\">\n",
       "      <th></th>\n",
       "      <th>Su</th>\n",
       "      <th>A5</th>\n",
       "      <th>Bhn</th>\n",
       "      <th>E</th>\n",
       "      <th>G</th>\n",
       "      <th>mu</th>\n",
       "      <th>Ro</th>\n",
       "      <th>pH</th>\n",
       "      <th>HV</th>\n",
       "    </tr>\n",
       "  </thead>\n",
       "  <tbody>\n",
       "    <tr>\n",
       "      <th>1549</th>\n",
       "      <td>800</td>\n",
       "      <td>NaN</td>\n",
       "      <td>NaN</td>\n",
       "      <td>169000</td>\n",
       "      <td>70000</td>\n",
       "      <td>0.20</td>\n",
       "      <td>7160</td>\n",
       "      <td>600.0</td>\n",
       "      <td>240.0</td>\n",
       "    </tr>\n",
       "    <tr>\n",
       "      <th>1550</th>\n",
       "      <td>400</td>\n",
       "      <td>4.0</td>\n",
       "      <td>NaN</td>\n",
       "      <td>160000</td>\n",
       "      <td>64000</td>\n",
       "      <td>0.27</td>\n",
       "      <td>7160</td>\n",
       "      <td>300.0</td>\n",
       "      <td>220.0</td>\n",
       "    </tr>\n",
       "    <tr>\n",
       "      <th>1551</th>\n",
       "      <td>500</td>\n",
       "      <td>4.0</td>\n",
       "      <td>NaN</td>\n",
       "      <td>160000</td>\n",
       "      <td>64000</td>\n",
       "      <td>0.27</td>\n",
       "      <td>7160</td>\n",
       "      <td>370.0</td>\n",
       "      <td>230.0</td>\n",
       "    </tr>\n",
       "  </tbody>\n",
       "</table>\n",
       "</div>"
      ]
     },
     "execution_count": 162,
     "metadata": {},
     "output_type": "execute_result"
    }
   ],
   "execution_count": 162
  },
  {
   "metadata": {
    "ExecuteTime": {
     "end_time": "2025-05-04T19:43:08.252211Z",
     "start_time": "2025-05-04T19:43:08.248429Z"
    }
   },
   "cell_type": "code",
   "source": "result = top_3_numeric_rows.subtract(bottom_3_numeric_rows, fill_value=0)",
   "id": "a71585720e9120e9",
   "outputs": [],
   "execution_count": 169
  },
  {
   "metadata": {
    "ExecuteTime": {
     "end_time": "2025-05-04T19:43:36.158295Z",
     "start_time": "2025-05-04T19:43:36.150226Z"
    }
   },
   "cell_type": "code",
   "source": "result.round(2).reset_index()",
   "id": "d8f713a3f94f7ba",
   "outputs": [
    {
     "data": {
      "text/plain": [
       "   index     Su    A5    Bhn         E        G    mu      Ro     pH     HV\n",
       "0      0  421.0  39.0  126.0  207000.0  79000.0  0.30  7860.0    NaN    NaN\n",
       "1      1  424.0  37.0  121.0  207000.0  79000.0  0.30  7860.0    NaN    NaN\n",
       "2      2  386.0  37.0  111.0  207000.0  79000.0  0.30  7860.0    NaN    NaN\n",
       "3   1549 -800.0   NaN    NaN -169000.0 -70000.0 -0.20 -7160.0 -600.0 -240.0\n",
       "4   1550 -400.0  -4.0    NaN -160000.0 -64000.0 -0.27 -7160.0 -300.0 -220.0\n",
       "5   1551 -500.0  -4.0    NaN -160000.0 -64000.0 -0.27 -7160.0 -370.0 -230.0"
      ],
      "text/html": [
       "<div>\n",
       "<style scoped>\n",
       "    .dataframe tbody tr th:only-of-type {\n",
       "        vertical-align: middle;\n",
       "    }\n",
       "\n",
       "    .dataframe tbody tr th {\n",
       "        vertical-align: top;\n",
       "    }\n",
       "\n",
       "    .dataframe thead th {\n",
       "        text-align: right;\n",
       "    }\n",
       "</style>\n",
       "<table border=\"1\" class=\"dataframe\">\n",
       "  <thead>\n",
       "    <tr style=\"text-align: right;\">\n",
       "      <th></th>\n",
       "      <th>index</th>\n",
       "      <th>Su</th>\n",
       "      <th>A5</th>\n",
       "      <th>Bhn</th>\n",
       "      <th>E</th>\n",
       "      <th>G</th>\n",
       "      <th>mu</th>\n",
       "      <th>Ro</th>\n",
       "      <th>pH</th>\n",
       "      <th>HV</th>\n",
       "    </tr>\n",
       "  </thead>\n",
       "  <tbody>\n",
       "    <tr>\n",
       "      <th>0</th>\n",
       "      <td>0</td>\n",
       "      <td>421.0</td>\n",
       "      <td>39.0</td>\n",
       "      <td>126.0</td>\n",
       "      <td>207000.0</td>\n",
       "      <td>79000.0</td>\n",
       "      <td>0.30</td>\n",
       "      <td>7860.0</td>\n",
       "      <td>NaN</td>\n",
       "      <td>NaN</td>\n",
       "    </tr>\n",
       "    <tr>\n",
       "      <th>1</th>\n",
       "      <td>1</td>\n",
       "      <td>424.0</td>\n",
       "      <td>37.0</td>\n",
       "      <td>121.0</td>\n",
       "      <td>207000.0</td>\n",
       "      <td>79000.0</td>\n",
       "      <td>0.30</td>\n",
       "      <td>7860.0</td>\n",
       "      <td>NaN</td>\n",
       "      <td>NaN</td>\n",
       "    </tr>\n",
       "    <tr>\n",
       "      <th>2</th>\n",
       "      <td>2</td>\n",
       "      <td>386.0</td>\n",
       "      <td>37.0</td>\n",
       "      <td>111.0</td>\n",
       "      <td>207000.0</td>\n",
       "      <td>79000.0</td>\n",
       "      <td>0.30</td>\n",
       "      <td>7860.0</td>\n",
       "      <td>NaN</td>\n",
       "      <td>NaN</td>\n",
       "    </tr>\n",
       "    <tr>\n",
       "      <th>3</th>\n",
       "      <td>1549</td>\n",
       "      <td>-800.0</td>\n",
       "      <td>NaN</td>\n",
       "      <td>NaN</td>\n",
       "      <td>-169000.0</td>\n",
       "      <td>-70000.0</td>\n",
       "      <td>-0.20</td>\n",
       "      <td>-7160.0</td>\n",
       "      <td>-600.0</td>\n",
       "      <td>-240.0</td>\n",
       "    </tr>\n",
       "    <tr>\n",
       "      <th>4</th>\n",
       "      <td>1550</td>\n",
       "      <td>-400.0</td>\n",
       "      <td>-4.0</td>\n",
       "      <td>NaN</td>\n",
       "      <td>-160000.0</td>\n",
       "      <td>-64000.0</td>\n",
       "      <td>-0.27</td>\n",
       "      <td>-7160.0</td>\n",
       "      <td>-300.0</td>\n",
       "      <td>-220.0</td>\n",
       "    </tr>\n",
       "    <tr>\n",
       "      <th>5</th>\n",
       "      <td>1551</td>\n",
       "      <td>-500.0</td>\n",
       "      <td>-4.0</td>\n",
       "      <td>NaN</td>\n",
       "      <td>-160000.0</td>\n",
       "      <td>-64000.0</td>\n",
       "      <td>-0.27</td>\n",
       "      <td>-7160.0</td>\n",
       "      <td>-370.0</td>\n",
       "      <td>-230.0</td>\n",
       "    </tr>\n",
       "  </tbody>\n",
       "</table>\n",
       "</div>"
      ]
     },
     "execution_count": 170,
     "metadata": {},
     "output_type": "execute_result"
    }
   ],
   "execution_count": 170
  },
  {
   "metadata": {},
   "cell_type": "markdown",
   "source": [
    "6. **Reverse Arithmetic (rsub)**\n",
    "   Use `.rsub()` to subtract each value in column `Su` from the column average."
   ],
   "id": "13cb8f263321d965"
  },
  {
   "metadata": {
    "ExecuteTime": {
     "end_time": "2025-05-04T19:46:54.551025Z",
     "start_time": "2025-05-04T19:46:54.548349Z"
    }
   },
   "cell_type": "code",
   "source": "df = pd.DataFrame(data)",
   "id": "77de4438ce705b85",
   "outputs": [],
   "execution_count": 171
  },
  {
   "metadata": {
    "ExecuteTime": {
     "end_time": "2025-05-04T19:47:04.766784Z",
     "start_time": "2025-05-04T19:47:04.761481Z"
    }
   },
   "cell_type": "code",
   "source": "df['Su'] = df['Su'].apply(pd.to_numeric, errors='coerce')",
   "id": "b84dfbc0e946a387",
   "outputs": [],
   "execution_count": 172
  },
  {
   "metadata": {
    "ExecuteTime": {
     "end_time": "2025-05-04T19:47:51.801683Z",
     "start_time": "2025-05-04T19:47:51.798323Z"
    }
   },
   "cell_type": "code",
   "source": "df['su_rsub'] = df['Su'].rsub(df['Su'].mean())",
   "id": "10f20a89b93559c4",
   "outputs": [],
   "execution_count": 173
  },
  {
   "metadata": {
    "ExecuteTime": {
     "end_time": "2025-05-04T19:47:58.476171Z",
     "start_time": "2025-05-04T19:47:58.470591Z"
    }
   },
   "cell_type": "code",
   "source": "df[['Material', 'Su', 'su_rsub']].head(5)",
   "id": "f5752c92241a2628",
   "outputs": [
    {
     "data": {
      "text/plain": [
       "         Material   Su     su_rsub\n",
       "0  Steel SAE 1015  421  151.753222\n",
       "1  Steel SAE 1015  424  148.753222\n",
       "2  Steel SAE 1015  386  186.753222\n",
       "3  Steel SAE 1020  448  124.753222\n",
       "4  Steel SAE 1020  441  131.753222"
      ],
      "text/html": [
       "<div>\n",
       "<style scoped>\n",
       "    .dataframe tbody tr th:only-of-type {\n",
       "        vertical-align: middle;\n",
       "    }\n",
       "\n",
       "    .dataframe tbody tr th {\n",
       "        vertical-align: top;\n",
       "    }\n",
       "\n",
       "    .dataframe thead th {\n",
       "        text-align: right;\n",
       "    }\n",
       "</style>\n",
       "<table border=\"1\" class=\"dataframe\">\n",
       "  <thead>\n",
       "    <tr style=\"text-align: right;\">\n",
       "      <th></th>\n",
       "      <th>Material</th>\n",
       "      <th>Su</th>\n",
       "      <th>su_rsub</th>\n",
       "    </tr>\n",
       "  </thead>\n",
       "  <tbody>\n",
       "    <tr>\n",
       "      <th>0</th>\n",
       "      <td>Steel SAE 1015</td>\n",
       "      <td>421</td>\n",
       "      <td>151.753222</td>\n",
       "    </tr>\n",
       "    <tr>\n",
       "      <th>1</th>\n",
       "      <td>Steel SAE 1015</td>\n",
       "      <td>424</td>\n",
       "      <td>148.753222</td>\n",
       "    </tr>\n",
       "    <tr>\n",
       "      <th>2</th>\n",
       "      <td>Steel SAE 1015</td>\n",
       "      <td>386</td>\n",
       "      <td>186.753222</td>\n",
       "    </tr>\n",
       "    <tr>\n",
       "      <th>3</th>\n",
       "      <td>Steel SAE 1020</td>\n",
       "      <td>448</td>\n",
       "      <td>124.753222</td>\n",
       "    </tr>\n",
       "    <tr>\n",
       "      <th>4</th>\n",
       "      <td>Steel SAE 1020</td>\n",
       "      <td>441</td>\n",
       "      <td>131.753222</td>\n",
       "    </tr>\n",
       "  </tbody>\n",
       "</table>\n",
       "</div>"
      ]
     },
     "execution_count": 174,
     "metadata": {},
     "output_type": "execute_result"
    }
   ],
   "execution_count": 174
  },
  {
   "metadata": {},
   "cell_type": "markdown",
   "source": [
    "7. **Multi-column Arithmetic**\n",
    "   Compute `Strength_Index = (Su + Sy) / 2`. Store in a new column."
   ],
   "id": "62591329025bbc39"
  },
  {
   "metadata": {
    "ExecuteTime": {
     "end_time": "2025-05-04T19:50:03.184757Z",
     "start_time": "2025-05-04T19:50:03.181594Z"
    }
   },
   "cell_type": "code",
   "source": "df = pd.DataFrame(data)",
   "id": "603cbba4de11dfe8",
   "outputs": [],
   "execution_count": 175
  },
  {
   "metadata": {
    "ExecuteTime": {
     "end_time": "2025-05-04T19:50:16.284842Z",
     "start_time": "2025-05-04T19:50:16.281977Z"
    }
   },
   "cell_type": "code",
   "source": "cols = ['Sy', 'Su']",
   "id": "fc3c2e6a05dca63",
   "outputs": [],
   "execution_count": 176
  },
  {
   "metadata": {
    "ExecuteTime": {
     "end_time": "2025-05-04T19:50:22.745151Z",
     "start_time": "2025-05-04T19:50:22.739294Z"
    }
   },
   "cell_type": "code",
   "source": "df[cols] = df[cols].apply(pd.to_numeric, errors='coerce')",
   "id": "e26be4f85483158f",
   "outputs": [],
   "execution_count": 177
  },
  {
   "metadata": {
    "ExecuteTime": {
     "end_time": "2025-05-04T19:51:46.732702Z",
     "start_time": "2025-05-04T19:51:46.729252Z"
    }
   },
   "cell_type": "code",
   "source": "df['Strength_Index'] = (df['Su'].add(df['Sy'], fill_value=0)) / 2",
   "id": "64c8c23b2493a6dd",
   "outputs": [],
   "execution_count": 178
  },
  {
   "metadata": {
    "ExecuteTime": {
     "end_time": "2025-05-04T19:52:08.120986Z",
     "start_time": "2025-05-04T19:52:08.114781Z"
    }
   },
   "cell_type": "code",
   "source": "df[['Material', 'Strength_Index'] + cols].head(5)",
   "id": "1b90efcabe2149b7",
   "outputs": [
    {
     "data": {
      "text/plain": [
       "         Material  Strength_Index     Sy   Su\n",
       "0  Steel SAE 1015           367.5  314.0  421\n",
       "1  Steel SAE 1015           374.0  324.0  424\n",
       "2  Steel SAE 1015           335.0  284.0  386\n",
       "3  Steel SAE 1020           389.5  331.0  448\n",
       "4  Steel SAE 1020           393.5  346.0  441"
      ],
      "text/html": [
       "<div>\n",
       "<style scoped>\n",
       "    .dataframe tbody tr th:only-of-type {\n",
       "        vertical-align: middle;\n",
       "    }\n",
       "\n",
       "    .dataframe tbody tr th {\n",
       "        vertical-align: top;\n",
       "    }\n",
       "\n",
       "    .dataframe thead th {\n",
       "        text-align: right;\n",
       "    }\n",
       "</style>\n",
       "<table border=\"1\" class=\"dataframe\">\n",
       "  <thead>\n",
       "    <tr style=\"text-align: right;\">\n",
       "      <th></th>\n",
       "      <th>Material</th>\n",
       "      <th>Strength_Index</th>\n",
       "      <th>Sy</th>\n",
       "      <th>Su</th>\n",
       "    </tr>\n",
       "  </thead>\n",
       "  <tbody>\n",
       "    <tr>\n",
       "      <th>0</th>\n",
       "      <td>Steel SAE 1015</td>\n",
       "      <td>367.5</td>\n",
       "      <td>314.0</td>\n",
       "      <td>421</td>\n",
       "    </tr>\n",
       "    <tr>\n",
       "      <th>1</th>\n",
       "      <td>Steel SAE 1015</td>\n",
       "      <td>374.0</td>\n",
       "      <td>324.0</td>\n",
       "      <td>424</td>\n",
       "    </tr>\n",
       "    <tr>\n",
       "      <th>2</th>\n",
       "      <td>Steel SAE 1015</td>\n",
       "      <td>335.0</td>\n",
       "      <td>284.0</td>\n",
       "      <td>386</td>\n",
       "    </tr>\n",
       "    <tr>\n",
       "      <th>3</th>\n",
       "      <td>Steel SAE 1020</td>\n",
       "      <td>389.5</td>\n",
       "      <td>331.0</td>\n",
       "      <td>448</td>\n",
       "    </tr>\n",
       "    <tr>\n",
       "      <th>4</th>\n",
       "      <td>Steel SAE 1020</td>\n",
       "      <td>393.5</td>\n",
       "      <td>346.0</td>\n",
       "      <td>441</td>\n",
       "    </tr>\n",
       "  </tbody>\n",
       "</table>\n",
       "</div>"
      ]
     },
     "execution_count": 179,
     "metadata": {},
     "output_type": "execute_result"
    }
   ],
   "execution_count": 179
  },
  {
   "metadata": {},
   "cell_type": "markdown",
   "source": [
    "8. **Broadcasting with Alignment**\n",
    "   Subtract a Series (e.g., median of each column) from the entire DataFrame and show results."
   ],
   "id": "e78521bf7ef28f28"
  },
  {
   "metadata": {
    "ExecuteTime": {
     "end_time": "2025-05-04T19:53:44.381666Z",
     "start_time": "2025-05-04T19:53:44.379022Z"
    }
   },
   "cell_type": "code",
   "source": "df = pd.DataFrame(data)",
   "id": "449221c47bf510a1",
   "outputs": [],
   "execution_count": 180
  },
  {
   "metadata": {
    "ExecuteTime": {
     "end_time": "2025-05-04T19:54:36.415815Z",
     "start_time": "2025-05-04T19:54:36.413082Z"
    }
   },
   "cell_type": "code",
   "source": "numeric_columns = df.select_dtypes(include=[np.number]).columns",
   "id": "c857cd3551a9180c",
   "outputs": [],
   "execution_count": 181
  },
  {
   "metadata": {
    "ExecuteTime": {
     "end_time": "2025-05-04T19:54:59.102389Z",
     "start_time": "2025-05-04T19:54:59.097638Z"
    }
   },
   "cell_type": "code",
   "source": "df[numeric_columns] = df[numeric_columns].apply(pd.to_numeric, errors='coerce')",
   "id": "bc97334e60065a0b",
   "outputs": [],
   "execution_count": 182
  },
  {
   "metadata": {
    "ExecuteTime": {
     "end_time": "2025-05-04T19:56:03.524055Z",
     "start_time": "2025-05-04T19:56:03.519923Z"
    }
   },
   "cell_type": "code",
   "source": "df_median = df[numeric_columns].median()",
   "id": "a7d5e4a28d61e267",
   "outputs": [],
   "execution_count": 185
  },
  {
   "metadata": {
    "ExecuteTime": {
     "end_time": "2025-05-04T19:56:12.916117Z",
     "start_time": "2025-05-04T19:56:12.911877Z"
    }
   },
   "cell_type": "code",
   "source": "df_median",
   "id": "244751767c4c3518",
   "outputs": [
    {
     "data": {
      "text/plain": [
       "Su        500.0\n",
       "A5         16.0\n",
       "Bhn       170.0\n",
       "E      206000.0\n",
       "G       79000.0\n",
       "mu          0.3\n",
       "Ro       7860.0\n",
       "pH        460.0\n",
       "HV        230.0\n",
       "dtype: float64"
      ]
     },
     "execution_count": 186,
     "metadata": {},
     "output_type": "execute_result"
    }
   ],
   "execution_count": 186
  },
  {
   "metadata": {
    "ExecuteTime": {
     "end_time": "2025-05-04T20:00:10.276102Z",
     "start_time": "2025-05-04T20:00:10.272628Z"
    }
   },
   "cell_type": "code",
   "source": "df_subtract_median = df[numeric_columns].subtract(df_median)",
   "id": "f269f3dc7b4daa7d",
   "outputs": [],
   "execution_count": 193
  },
  {
   "metadata": {
    "ExecuteTime": {
     "end_time": "2025-05-04T20:00:10.520703Z",
     "start_time": "2025-05-04T20:00:10.513616Z"
    }
   },
   "cell_type": "code",
   "source": "df_subtract_median.head(5)",
   "id": "7554416cc37a483c",
   "outputs": [
    {
     "data": {
      "text/plain": [
       "      Su    A5   Bhn       E    G   mu   Ro    pH  HV\n",
       "0  -79.0  23.0 -44.0  1000.0  0.0  0.0  0.0   NaN NaN\n",
       "1  -76.0  21.0 -49.0  1000.0  0.0  0.0  0.0   NaN NaN\n",
       "2 -114.0  21.0 -59.0  1000.0  0.0  0.0  0.0   NaN NaN\n",
       "3  -52.0  20.0 -27.0  1000.0  0.0  0.0  0.0   NaN NaN\n",
       "4  -59.0  19.8 -39.0  1000.0  0.0  0.0  0.0  90.0 NaN"
      ],
      "text/html": [
       "<div>\n",
       "<style scoped>\n",
       "    .dataframe tbody tr th:only-of-type {\n",
       "        vertical-align: middle;\n",
       "    }\n",
       "\n",
       "    .dataframe tbody tr th {\n",
       "        vertical-align: top;\n",
       "    }\n",
       "\n",
       "    .dataframe thead th {\n",
       "        text-align: right;\n",
       "    }\n",
       "</style>\n",
       "<table border=\"1\" class=\"dataframe\">\n",
       "  <thead>\n",
       "    <tr style=\"text-align: right;\">\n",
       "      <th></th>\n",
       "      <th>Su</th>\n",
       "      <th>A5</th>\n",
       "      <th>Bhn</th>\n",
       "      <th>E</th>\n",
       "      <th>G</th>\n",
       "      <th>mu</th>\n",
       "      <th>Ro</th>\n",
       "      <th>pH</th>\n",
       "      <th>HV</th>\n",
       "    </tr>\n",
       "  </thead>\n",
       "  <tbody>\n",
       "    <tr>\n",
       "      <th>0</th>\n",
       "      <td>-79.0</td>\n",
       "      <td>23.0</td>\n",
       "      <td>-44.0</td>\n",
       "      <td>1000.0</td>\n",
       "      <td>0.0</td>\n",
       "      <td>0.0</td>\n",
       "      <td>0.0</td>\n",
       "      <td>NaN</td>\n",
       "      <td>NaN</td>\n",
       "    </tr>\n",
       "    <tr>\n",
       "      <th>1</th>\n",
       "      <td>-76.0</td>\n",
       "      <td>21.0</td>\n",
       "      <td>-49.0</td>\n",
       "      <td>1000.0</td>\n",
       "      <td>0.0</td>\n",
       "      <td>0.0</td>\n",
       "      <td>0.0</td>\n",
       "      <td>NaN</td>\n",
       "      <td>NaN</td>\n",
       "    </tr>\n",
       "    <tr>\n",
       "      <th>2</th>\n",
       "      <td>-114.0</td>\n",
       "      <td>21.0</td>\n",
       "      <td>-59.0</td>\n",
       "      <td>1000.0</td>\n",
       "      <td>0.0</td>\n",
       "      <td>0.0</td>\n",
       "      <td>0.0</td>\n",
       "      <td>NaN</td>\n",
       "      <td>NaN</td>\n",
       "    </tr>\n",
       "    <tr>\n",
       "      <th>3</th>\n",
       "      <td>-52.0</td>\n",
       "      <td>20.0</td>\n",
       "      <td>-27.0</td>\n",
       "      <td>1000.0</td>\n",
       "      <td>0.0</td>\n",
       "      <td>0.0</td>\n",
       "      <td>0.0</td>\n",
       "      <td>NaN</td>\n",
       "      <td>NaN</td>\n",
       "    </tr>\n",
       "    <tr>\n",
       "      <th>4</th>\n",
       "      <td>-59.0</td>\n",
       "      <td>19.8</td>\n",
       "      <td>-39.0</td>\n",
       "      <td>1000.0</td>\n",
       "      <td>0.0</td>\n",
       "      <td>0.0</td>\n",
       "      <td>0.0</td>\n",
       "      <td>90.0</td>\n",
       "      <td>NaN</td>\n",
       "    </tr>\n",
       "  </tbody>\n",
       "</table>\n",
       "</div>"
      ]
     },
     "execution_count": 194,
     "metadata": {},
     "output_type": "execute_result"
    }
   ],
   "execution_count": 194
  },
  {
   "metadata": {},
   "cell_type": "markdown",
   "source": "### **Section B: Normalization, Classification, Scoring (4 problems)**",
   "id": "8ac26daad599c597"
  },
  {
   "metadata": {},
   "cell_type": "markdown",
   "source": [
    "9. **Min-Max Scaling**\n",
    "   Normalize columns `E`, `G`, `Ro` using Min-Max scaling.\n"
   ],
   "id": "77ed651b5ace918c"
  },
  {
   "metadata": {
    "ExecuteTime": {
     "end_time": "2025-05-04T20:02:07.610846Z",
     "start_time": "2025-05-04T20:02:07.607902Z"
    }
   },
   "cell_type": "code",
   "source": "df = pd.DataFrame(data)",
   "id": "87a6494b70953aef",
   "outputs": [],
   "execution_count": 196
  },
  {
   "metadata": {
    "ExecuteTime": {
     "end_time": "2025-05-04T20:02:18.566889Z",
     "start_time": "2025-05-04T20:02:18.564228Z"
    }
   },
   "cell_type": "code",
   "source": "cols = ['E', 'G', 'Ro']",
   "id": "20dd6eccfe2bc676",
   "outputs": [],
   "execution_count": 197
  },
  {
   "metadata": {
    "ExecuteTime": {
     "end_time": "2025-05-04T20:02:23.647534Z",
     "start_time": "2025-05-04T20:02:23.643895Z"
    }
   },
   "cell_type": "code",
   "source": "df[cols] = df[cols].apply(pd.to_numeric, errors='coerce')",
   "id": "8358f7d067a1d361",
   "outputs": [],
   "execution_count": 198
  },
  {
   "metadata": {
    "ExecuteTime": {
     "end_time": "2025-05-04T20:03:14.379431Z",
     "start_time": "2025-05-04T20:03:14.376622Z"
    }
   },
   "cell_type": "code",
   "source": [
    "def normalize(x):\n",
    "    return (x - x.min()) / (x.max() - x.min()) "
   ],
   "id": "ce55a1e29506ea9",
   "outputs": [],
   "execution_count": 199
  },
  {
   "metadata": {
    "ExecuteTime": {
     "end_time": "2025-05-04T20:04:50.449952Z",
     "start_time": "2025-05-04T20:04:50.446127Z"
    }
   },
   "cell_type": "code",
   "source": "result = df[cols].apply(normalize, axis=0)    ",
   "id": "4265c4cd4a6f8f73",
   "outputs": [],
   "execution_count": 205
  },
  {
   "metadata": {
    "ExecuteTime": {
     "end_time": "2025-05-04T20:05:44.018654Z",
     "start_time": "2025-05-04T20:05:44.010843Z"
    }
   },
   "cell_type": "code",
   "source": "result.round(2).head(5)",
   "id": "a3566e2ab1c2613b",
   "outputs": [
    {
     "data": {
      "text/plain": [
       "      E     G    Ro\n",
       "0  0.92  0.07  0.85\n",
       "1  0.92  0.07  0.85\n",
       "2  0.92  0.07  0.85\n",
       "3  0.92  0.07  0.85\n",
       "4  0.92  0.07  0.85"
      ],
      "text/html": [
       "<div>\n",
       "<style scoped>\n",
       "    .dataframe tbody tr th:only-of-type {\n",
       "        vertical-align: middle;\n",
       "    }\n",
       "\n",
       "    .dataframe tbody tr th {\n",
       "        vertical-align: top;\n",
       "    }\n",
       "\n",
       "    .dataframe thead th {\n",
       "        text-align: right;\n",
       "    }\n",
       "</style>\n",
       "<table border=\"1\" class=\"dataframe\">\n",
       "  <thead>\n",
       "    <tr style=\"text-align: right;\">\n",
       "      <th></th>\n",
       "      <th>E</th>\n",
       "      <th>G</th>\n",
       "      <th>Ro</th>\n",
       "    </tr>\n",
       "  </thead>\n",
       "  <tbody>\n",
       "    <tr>\n",
       "      <th>0</th>\n",
       "      <td>0.92</td>\n",
       "      <td>0.07</td>\n",
       "      <td>0.85</td>\n",
       "    </tr>\n",
       "    <tr>\n",
       "      <th>1</th>\n",
       "      <td>0.92</td>\n",
       "      <td>0.07</td>\n",
       "      <td>0.85</td>\n",
       "    </tr>\n",
       "    <tr>\n",
       "      <th>2</th>\n",
       "      <td>0.92</td>\n",
       "      <td>0.07</td>\n",
       "      <td>0.85</td>\n",
       "    </tr>\n",
       "    <tr>\n",
       "      <th>3</th>\n",
       "      <td>0.92</td>\n",
       "      <td>0.07</td>\n",
       "      <td>0.85</td>\n",
       "    </tr>\n",
       "    <tr>\n",
       "      <th>4</th>\n",
       "      <td>0.92</td>\n",
       "      <td>0.07</td>\n",
       "      <td>0.85</td>\n",
       "    </tr>\n",
       "  </tbody>\n",
       "</table>\n",
       "</div>"
      ]
     },
     "execution_count": 206,
     "metadata": {},
     "output_type": "execute_result"
    }
   ],
   "execution_count": 206
  },
  {
   "metadata": {},
   "cell_type": "markdown",
   "source": [
    "10. **Quantile-based Classification**\n",
    "    Classify `Su` into 'Low', 'Medium', 'High' using 33rd and 66th percentiles."
   ],
   "id": "387192b6bffe1125"
  },
  {
   "metadata": {
    "ExecuteTime": {
     "end_time": "2025-05-04T20:07:28.950543Z",
     "start_time": "2025-05-04T20:07:28.947712Z"
    }
   },
   "cell_type": "code",
   "source": "df = pd.DataFrame(data)",
   "id": "6226c6673e73b09b",
   "outputs": [],
   "execution_count": 207
  },
  {
   "metadata": {
    "ExecuteTime": {
     "end_time": "2025-05-04T20:08:27.572398Z",
     "start_time": "2025-05-04T20:08:27.567927Z"
    }
   },
   "cell_type": "code",
   "source": "df['Su'] = df['Su'].apply(pd.to_numeric, errors='coerce')",
   "id": "3f07c86dfdb6b14f",
   "outputs": [],
   "execution_count": 208
  },
  {
   "metadata": {
    "ExecuteTime": {
     "end_time": "2025-05-04T20:09:06.422217Z",
     "start_time": "2025-05-04T20:09:06.419089Z"
    }
   },
   "cell_type": "code",
   "source": "low = df['Su'].quantile(0.33)",
   "id": "7ae21691cd5b8a01",
   "outputs": [],
   "execution_count": 209
  },
  {
   "metadata": {
    "ExecuteTime": {
     "end_time": "2025-05-04T20:09:12.360282Z",
     "start_time": "2025-05-04T20:09:12.356958Z"
    }
   },
   "cell_type": "code",
   "source": "high = df['Su'].quantile(0.66)",
   "id": "c2b80c4e2fd7f021",
   "outputs": [],
   "execution_count": 210
  },
  {
   "metadata": {
    "ExecuteTime": {
     "end_time": "2025-05-04T20:12:46.487334Z",
     "start_time": "2025-05-04T20:12:46.484396Z"
    }
   },
   "cell_type": "code",
   "source": [
    "def su_classification(su_value):\n",
    "    if pd.isna(su_value):\n",
    "        return 'Unknown'\n",
    "    elif su_value <= low:\n",
    "        return 'Low'\n",
    "    elif su_value <= high:\n",
    "        return 'Medium'\n",
    "    else:\n",
    "        return 'High'"
   ],
   "id": "1286e4efd27c5e8e",
   "outputs": [],
   "execution_count": 213
  },
  {
   "metadata": {
    "ExecuteTime": {
     "end_time": "2025-05-04T20:12:47.127357Z",
     "start_time": "2025-05-04T20:12:47.123978Z"
    }
   },
   "cell_type": "code",
   "source": "df['su_classification_results'] = df['Su'].apply(su_classification)",
   "id": "4267146776c407c4",
   "outputs": [],
   "execution_count": 214
  },
  {
   "metadata": {
    "ExecuteTime": {
     "end_time": "2025-05-04T20:13:26.702590Z",
     "start_time": "2025-05-04T20:13:26.696866Z"
    }
   },
   "cell_type": "code",
   "source": "df[['Material', 'Su', 'su_classification_results']].head(5)",
   "id": "af63c5bf8e557510",
   "outputs": [
    {
     "data": {
      "text/plain": [
       "         Material   Su su_classification_results\n",
       "0  Steel SAE 1015  421                    Medium\n",
       "1  Steel SAE 1015  424                    Medium\n",
       "2  Steel SAE 1015  386                       Low\n",
       "3  Steel SAE 1020  448                    Medium\n",
       "4  Steel SAE 1020  441                    Medium"
      ],
      "text/html": [
       "<div>\n",
       "<style scoped>\n",
       "    .dataframe tbody tr th:only-of-type {\n",
       "        vertical-align: middle;\n",
       "    }\n",
       "\n",
       "    .dataframe tbody tr th {\n",
       "        vertical-align: top;\n",
       "    }\n",
       "\n",
       "    .dataframe thead th {\n",
       "        text-align: right;\n",
       "    }\n",
       "</style>\n",
       "<table border=\"1\" class=\"dataframe\">\n",
       "  <thead>\n",
       "    <tr style=\"text-align: right;\">\n",
       "      <th></th>\n",
       "      <th>Material</th>\n",
       "      <th>Su</th>\n",
       "      <th>su_classification_results</th>\n",
       "    </tr>\n",
       "  </thead>\n",
       "  <tbody>\n",
       "    <tr>\n",
       "      <th>0</th>\n",
       "      <td>Steel SAE 1015</td>\n",
       "      <td>421</td>\n",
       "      <td>Medium</td>\n",
       "    </tr>\n",
       "    <tr>\n",
       "      <th>1</th>\n",
       "      <td>Steel SAE 1015</td>\n",
       "      <td>424</td>\n",
       "      <td>Medium</td>\n",
       "    </tr>\n",
       "    <tr>\n",
       "      <th>2</th>\n",
       "      <td>Steel SAE 1015</td>\n",
       "      <td>386</td>\n",
       "      <td>Low</td>\n",
       "    </tr>\n",
       "    <tr>\n",
       "      <th>3</th>\n",
       "      <td>Steel SAE 1020</td>\n",
       "      <td>448</td>\n",
       "      <td>Medium</td>\n",
       "    </tr>\n",
       "    <tr>\n",
       "      <th>4</th>\n",
       "      <td>Steel SAE 1020</td>\n",
       "      <td>441</td>\n",
       "      <td>Medium</td>\n",
       "    </tr>\n",
       "  </tbody>\n",
       "</table>\n",
       "</div>"
      ]
     },
     "execution_count": 215,
     "metadata": {},
     "output_type": "execute_result"
    }
   ],
   "execution_count": 215
  },
  {
   "metadata": {},
   "cell_type": "markdown",
   "source": [
    "11. **Total Stiffness Score**\n",
    "    Define `Total_Stiffness = E + G + Ro` using `apply(axis=1)`."
   ],
   "id": "7fa8a22a50e8a59b"
  },
  {
   "metadata": {
    "ExecuteTime": {
     "end_time": "2025-05-04T20:15:26.214756Z",
     "start_time": "2025-05-04T20:15:26.211773Z"
    }
   },
   "cell_type": "code",
   "source": "df = pd.DataFrame(data)",
   "id": "e925fe49a0531c2",
   "outputs": [],
   "execution_count": 216
  },
  {
   "metadata": {
    "ExecuteTime": {
     "end_time": "2025-05-04T20:15:31.493813Z",
     "start_time": "2025-05-04T20:15:31.491155Z"
    }
   },
   "cell_type": "code",
   "source": "cols = ['E', 'G', 'Ro']",
   "id": "4c8a3ebe1f3d6e6c",
   "outputs": [],
   "execution_count": 217
  },
  {
   "metadata": {
    "ExecuteTime": {
     "end_time": "2025-05-04T20:15:41.960864Z",
     "start_time": "2025-05-04T20:15:41.956624Z"
    }
   },
   "cell_type": "code",
   "source": "df[cols] = df[cols].apply(pd.to_numeric, errors='coerce')",
   "id": "41eb94a68ce4211",
   "outputs": [],
   "execution_count": 218
  },
  {
   "metadata": {
    "ExecuteTime": {
     "end_time": "2025-05-04T20:18:13.743925Z",
     "start_time": "2025-05-04T20:18:13.741077Z"
    }
   },
   "cell_type": "code",
   "source": [
    "def total_stiffness(frame):\n",
    "    return frame['E'] + frame['G'] + frame['Ro']"
   ],
   "id": "d2bd1a8bfd8b7dd6",
   "outputs": [],
   "execution_count": 219
  },
  {
   "metadata": {
    "ExecuteTime": {
     "end_time": "2025-05-04T20:18:50.845610Z",
     "start_time": "2025-05-04T20:18:50.834133Z"
    }
   },
   "cell_type": "code",
   "source": "df['total_stiffness'] = df[cols].apply(total_stiffness, axis=1)",
   "id": "569a84d40b944e53",
   "outputs": [],
   "execution_count": 220
  },
  {
   "metadata": {
    "ExecuteTime": {
     "end_time": "2025-05-04T20:20:09.962666Z",
     "start_time": "2025-05-04T20:20:09.957580Z"
    }
   },
   "cell_type": "code",
   "source": "df[['Material'] + cols + ['total_stiffness']].head(5)",
   "id": "5ef90c4f7ab0d8ce",
   "outputs": [
    {
     "data": {
      "text/plain": [
       "         Material       E      G    Ro  total_stiffness\n",
       "0  Steel SAE 1015  207000  79000  7860           293860\n",
       "1  Steel SAE 1015  207000  79000  7860           293860\n",
       "2  Steel SAE 1015  207000  79000  7860           293860\n",
       "3  Steel SAE 1020  207000  79000  7860           293860\n",
       "4  Steel SAE 1020  207000  79000  7860           293860"
      ],
      "text/html": [
       "<div>\n",
       "<style scoped>\n",
       "    .dataframe tbody tr th:only-of-type {\n",
       "        vertical-align: middle;\n",
       "    }\n",
       "\n",
       "    .dataframe tbody tr th {\n",
       "        vertical-align: top;\n",
       "    }\n",
       "\n",
       "    .dataframe thead th {\n",
       "        text-align: right;\n",
       "    }\n",
       "</style>\n",
       "<table border=\"1\" class=\"dataframe\">\n",
       "  <thead>\n",
       "    <tr style=\"text-align: right;\">\n",
       "      <th></th>\n",
       "      <th>Material</th>\n",
       "      <th>E</th>\n",
       "      <th>G</th>\n",
       "      <th>Ro</th>\n",
       "      <th>total_stiffness</th>\n",
       "    </tr>\n",
       "  </thead>\n",
       "  <tbody>\n",
       "    <tr>\n",
       "      <th>0</th>\n",
       "      <td>Steel SAE 1015</td>\n",
       "      <td>207000</td>\n",
       "      <td>79000</td>\n",
       "      <td>7860</td>\n",
       "      <td>293860</td>\n",
       "    </tr>\n",
       "    <tr>\n",
       "      <th>1</th>\n",
       "      <td>Steel SAE 1015</td>\n",
       "      <td>207000</td>\n",
       "      <td>79000</td>\n",
       "      <td>7860</td>\n",
       "      <td>293860</td>\n",
       "    </tr>\n",
       "    <tr>\n",
       "      <th>2</th>\n",
       "      <td>Steel SAE 1015</td>\n",
       "      <td>207000</td>\n",
       "      <td>79000</td>\n",
       "      <td>7860</td>\n",
       "      <td>293860</td>\n",
       "    </tr>\n",
       "    <tr>\n",
       "      <th>3</th>\n",
       "      <td>Steel SAE 1020</td>\n",
       "      <td>207000</td>\n",
       "      <td>79000</td>\n",
       "      <td>7860</td>\n",
       "      <td>293860</td>\n",
       "    </tr>\n",
       "    <tr>\n",
       "      <th>4</th>\n",
       "      <td>Steel SAE 1020</td>\n",
       "      <td>207000</td>\n",
       "      <td>79000</td>\n",
       "      <td>7860</td>\n",
       "      <td>293860</td>\n",
       "    </tr>\n",
       "  </tbody>\n",
       "</table>\n",
       "</div>"
      ]
     },
     "execution_count": 224,
     "metadata": {},
     "output_type": "execute_result"
    }
   ],
   "execution_count": 224
  },
  {
   "metadata": {},
   "cell_type": "markdown",
   "source": [
    "12. **Group By and Compute Mean**\n",
    "    Group by whether `Sy` is above/below median, compute average of `Su`, `E`, `Ro`"
   ],
   "id": "b105c51f7e56ae23"
  },
  {
   "metadata": {
    "ExecuteTime": {
     "end_time": "2025-05-04T20:21:41.748849Z",
     "start_time": "2025-05-04T20:21:41.745800Z"
    }
   },
   "cell_type": "code",
   "source": "df = pd.DataFrame(data)",
   "id": "adcd3eb9e97b052c",
   "outputs": [],
   "execution_count": 225
  },
  {
   "metadata": {
    "ExecuteTime": {
     "end_time": "2025-05-04T20:22:46.063087Z",
     "start_time": "2025-05-04T20:22:46.060743Z"
    }
   },
   "cell_type": "code",
   "source": "cols = ['Sy', 'Su', 'E', 'Ro']",
   "id": "1945888305407268",
   "outputs": [],
   "execution_count": 228
  },
  {
   "metadata": {
    "ExecuteTime": {
     "end_time": "2025-05-04T20:22:47.195268Z",
     "start_time": "2025-05-04T20:22:47.190456Z"
    }
   },
   "cell_type": "code",
   "source": "df[cols] = df[cols].apply(pd.to_numeric, errors='coerce')",
   "id": "9c4d7ef97990d8e9",
   "outputs": [],
   "execution_count": 229
  },
  {
   "metadata": {
    "ExecuteTime": {
     "end_time": "2025-05-04T20:24:34.703588Z",
     "start_time": "2025-05-04T20:24:34.700709Z"
    }
   },
   "cell_type": "code",
   "source": "sy_median = df['Sy'].median()",
   "id": "508275166f8dfe91",
   "outputs": [],
   "execution_count": 233
  },
  {
   "metadata": {
    "ExecuteTime": {
     "end_time": "2025-05-04T20:25:02.364848Z",
     "start_time": "2025-05-04T20:25:02.362093Z"
    }
   },
   "cell_type": "code",
   "source": [
    "def sy_position(x):\n",
    "    if pd.isna(x):\n",
    "        return 'Unknown'\n",
    "    elif x > sy_median:\n",
    "        return 'Above'\n",
    "    else:\n",
    "        return 'Below'"
   ],
   "id": "d32460b6126142e",
   "outputs": [],
   "execution_count": 234
  },
  {
   "metadata": {
    "ExecuteTime": {
     "end_time": "2025-05-04T20:27:24.483766Z",
     "start_time": "2025-05-04T20:27:24.480612Z"
    }
   },
   "cell_type": "code",
   "source": "df['Sy_position'] = df['Sy'].apply(sy_position)",
   "id": "8874c96f59b0d0ca",
   "outputs": [],
   "execution_count": 236
  },
  {
   "metadata": {
    "ExecuteTime": {
     "end_time": "2025-05-04T20:29:42.073385Z",
     "start_time": "2025-05-04T20:29:42.068857Z"
    }
   },
   "cell_type": "code",
   "source": "result = df.groupby('Sy_position')[cols].mean().reset_index()",
   "id": "1daa609afe37bf7d",
   "outputs": [],
   "execution_count": 238
  },
  {
   "metadata": {
    "ExecuteTime": {
     "end_time": "2025-05-04T20:30:01.051657Z",
     "start_time": "2025-05-04T20:30:01.046205Z"
    }
   },
   "cell_type": "code",
   "source": "result.head()",
   "id": "62dbd060397bdcee",
   "outputs": [
    {
     "data": {
      "text/plain": [
       "  Sy_position          Sy          Su              E           Ro\n",
       "0       Above  582.596330  798.791612  193370.904325  7561.771953\n",
       "1       Below  197.418694  355.025608  136011.523688  6302.951344\n",
       "2     Unknown         NaN  270.000000  206000.000000  7860.000000"
      ],
      "text/html": [
       "<div>\n",
       "<style scoped>\n",
       "    .dataframe tbody tr th:only-of-type {\n",
       "        vertical-align: middle;\n",
       "    }\n",
       "\n",
       "    .dataframe tbody tr th {\n",
       "        vertical-align: top;\n",
       "    }\n",
       "\n",
       "    .dataframe thead th {\n",
       "        text-align: right;\n",
       "    }\n",
       "</style>\n",
       "<table border=\"1\" class=\"dataframe\">\n",
       "  <thead>\n",
       "    <tr style=\"text-align: right;\">\n",
       "      <th></th>\n",
       "      <th>Sy_position</th>\n",
       "      <th>Sy</th>\n",
       "      <th>Su</th>\n",
       "      <th>E</th>\n",
       "      <th>Ro</th>\n",
       "    </tr>\n",
       "  </thead>\n",
       "  <tbody>\n",
       "    <tr>\n",
       "      <th>0</th>\n",
       "      <td>Above</td>\n",
       "      <td>582.596330</td>\n",
       "      <td>798.791612</td>\n",
       "      <td>193370.904325</td>\n",
       "      <td>7561.771953</td>\n",
       "    </tr>\n",
       "    <tr>\n",
       "      <th>1</th>\n",
       "      <td>Below</td>\n",
       "      <td>197.418694</td>\n",
       "      <td>355.025608</td>\n",
       "      <td>136011.523688</td>\n",
       "      <td>6302.951344</td>\n",
       "    </tr>\n",
       "    <tr>\n",
       "      <th>2</th>\n",
       "      <td>Unknown</td>\n",
       "      <td>NaN</td>\n",
       "      <td>270.000000</td>\n",
       "      <td>206000.000000</td>\n",
       "      <td>7860.000000</td>\n",
       "    </tr>\n",
       "  </tbody>\n",
       "</table>\n",
       "</div>"
      ]
     },
     "execution_count": 240,
     "metadata": {},
     "output_type": "execute_result"
    }
   ],
   "execution_count": 240
  },
  {
   "metadata": {},
   "cell_type": "markdown",
   "source": "### **Section C: Utility and Map/Format/Replace (1 problem)**",
   "id": "468b5769ac911f"
  },
  {
   "metadata": {},
   "cell_type": "markdown",
   "source": [
    "13. **Create Category from Multiple Conditions**\n",
    "    Create a column `material_type` using `apply()` based on `mu` and `Ro` values.\n",
    "    Example: `'Fragile'` if `mu < 0.3 and Ro > 7000`, `'Stable'` otherwise."
   ],
   "id": "5a32db9779510bc0"
  },
  {
   "metadata": {
    "ExecuteTime": {
     "end_time": "2025-05-04T20:33:30.808691Z",
     "start_time": "2025-05-04T20:33:30.805840Z"
    }
   },
   "cell_type": "code",
   "source": "df = pd.DataFrame(data)",
   "id": "38e8166a0689803e",
   "outputs": [],
   "execution_count": 241
  },
  {
   "metadata": {
    "ExecuteTime": {
     "end_time": "2025-05-04T20:33:41.067958Z",
     "start_time": "2025-05-04T20:33:41.065340Z"
    }
   },
   "cell_type": "code",
   "source": "cols = ['mu', 'Ro']",
   "id": "e5ec976b20ccd4a0",
   "outputs": [],
   "execution_count": 242
  },
  {
   "metadata": {
    "ExecuteTime": {
     "end_time": "2025-05-04T20:33:49.641964Z",
     "start_time": "2025-05-04T20:33:49.638184Z"
    }
   },
   "cell_type": "code",
   "source": "df[cols] = df[cols].apply(pd.to_numeric, errors='coerce')",
   "id": "e9e6656a7849ff2b",
   "outputs": [],
   "execution_count": 243
  },
  {
   "metadata": {
    "ExecuteTime": {
     "end_time": "2025-05-04T20:36:18.339503Z",
     "start_time": "2025-05-04T20:36:18.336608Z"
    }
   },
   "cell_type": "code",
   "source": [
    "def get_material_type(frame):\n",
    "    if frame['mu'] < 0.3 and frame['Ro'] > 7000:\n",
    "        return 'Fragile'\n",
    "    else:\n",
    "        return 'Stable'"
   ],
   "id": "5bba3e99241c436",
   "outputs": [],
   "execution_count": 244
  },
  {
   "metadata": {
    "ExecuteTime": {
     "end_time": "2025-05-04T20:36:31.807706Z",
     "start_time": "2025-05-04T20:36:31.799835Z"
    }
   },
   "cell_type": "code",
   "source": "df['material_type'] = df[cols].apply(get_material_type, axis=1)",
   "id": "293d8625236add24",
   "outputs": [],
   "execution_count": 245
  },
  {
   "metadata": {
    "ExecuteTime": {
     "end_time": "2025-05-04T20:37:00.382230Z",
     "start_time": "2025-05-04T20:37:00.376311Z"
    }
   },
   "cell_type": "code",
   "source": "df[['Material'] + cols + ['material_type']].head(5)",
   "id": "3423dd770faea879",
   "outputs": [
    {
     "data": {
      "text/plain": [
       "         Material   mu    Ro material_type\n",
       "0  Steel SAE 1015  0.3  7860        Stable\n",
       "1  Steel SAE 1015  0.3  7860        Stable\n",
       "2  Steel SAE 1015  0.3  7860        Stable\n",
       "3  Steel SAE 1020  0.3  7860        Stable\n",
       "4  Steel SAE 1020  0.3  7860        Stable"
      ],
      "text/html": [
       "<div>\n",
       "<style scoped>\n",
       "    .dataframe tbody tr th:only-of-type {\n",
       "        vertical-align: middle;\n",
       "    }\n",
       "\n",
       "    .dataframe tbody tr th {\n",
       "        vertical-align: top;\n",
       "    }\n",
       "\n",
       "    .dataframe thead th {\n",
       "        text-align: right;\n",
       "    }\n",
       "</style>\n",
       "<table border=\"1\" class=\"dataframe\">\n",
       "  <thead>\n",
       "    <tr style=\"text-align: right;\">\n",
       "      <th></th>\n",
       "      <th>Material</th>\n",
       "      <th>mu</th>\n",
       "      <th>Ro</th>\n",
       "      <th>material_type</th>\n",
       "    </tr>\n",
       "  </thead>\n",
       "  <tbody>\n",
       "    <tr>\n",
       "      <th>0</th>\n",
       "      <td>Steel SAE 1015</td>\n",
       "      <td>0.3</td>\n",
       "      <td>7860</td>\n",
       "      <td>Stable</td>\n",
       "    </tr>\n",
       "    <tr>\n",
       "      <th>1</th>\n",
       "      <td>Steel SAE 1015</td>\n",
       "      <td>0.3</td>\n",
       "      <td>7860</td>\n",
       "      <td>Stable</td>\n",
       "    </tr>\n",
       "    <tr>\n",
       "      <th>2</th>\n",
       "      <td>Steel SAE 1015</td>\n",
       "      <td>0.3</td>\n",
       "      <td>7860</td>\n",
       "      <td>Stable</td>\n",
       "    </tr>\n",
       "    <tr>\n",
       "      <th>3</th>\n",
       "      <td>Steel SAE 1020</td>\n",
       "      <td>0.3</td>\n",
       "      <td>7860</td>\n",
       "      <td>Stable</td>\n",
       "    </tr>\n",
       "    <tr>\n",
       "      <th>4</th>\n",
       "      <td>Steel SAE 1020</td>\n",
       "      <td>0.3</td>\n",
       "      <td>7860</td>\n",
       "      <td>Stable</td>\n",
       "    </tr>\n",
       "  </tbody>\n",
       "</table>\n",
       "</div>"
      ]
     },
     "execution_count": 246,
     "metadata": {},
     "output_type": "execute_result"
    }
   ],
   "execution_count": 246
  },
  {
   "metadata": {},
   "cell_type": "code",
   "outputs": [],
   "execution_count": null,
   "source": "",
   "id": "8494d69c736997eb"
  }
 ],
 "metadata": {
  "kernelspec": {
   "display_name": "Python 3",
   "language": "python",
   "name": "python3"
  },
  "language_info": {
   "codemirror_mode": {
    "name": "ipython",
    "version": 2
   },
   "file_extension": ".py",
   "mimetype": "text/x-python",
   "name": "python",
   "nbconvert_exporter": "python",
   "pygments_lexer": "ipython2",
   "version": "2.7.6"
  }
 },
 "nbformat": 4,
 "nbformat_minor": 5
}
